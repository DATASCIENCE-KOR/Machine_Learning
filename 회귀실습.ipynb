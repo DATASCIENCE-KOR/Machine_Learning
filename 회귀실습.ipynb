{
 "cells": [
  {
   "cell_type": "markdown",
   "metadata": {},
   "source": [
    "# 📌 분류 실습 2편"
   ]
  },
  {
   "cell_type": "markdown",
   "metadata": {},
   "source": [
    "## 1. 기본 설정 ❗"
   ]
  },
  {
   "cell_type": "markdown",
   "metadata": {},
   "source": [
    "--분석에 필요한 기본 모듈--"
   ]
  },
  {
   "cell_type": "code",
   "execution_count": 608,
   "metadata": {},
   "outputs": [],
   "source": [
    "import warnings\n",
    "warnings.filterwarnings('ignore')\n",
    "import numpy as np\n",
    "import pandas as pd\n",
    "import sklearn\n",
    "import time\n",
    "import matplotlib.pyplot as plt\n",
    "import seaborn as sns"
   ]
  },
  {
   "cell_type": "markdown",
   "metadata": {},
   "source": [
    "--분석에 필요한 알고리즘 모델--"
   ]
  },
  {
   "cell_type": "code",
   "execution_count": 609,
   "metadata": {},
   "outputs": [],
   "source": [
    "from sklearn.model_selection import train_test_split\n",
    "from sklearn import preprocessing\n",
    "\n",
    "from sklearn.model_selection import GridSearchCV\n",
    "from sklearn.model_selection import KFold\n",
    "\n",
    "import scipy.stats\n",
    "from scipy.stats import probplot\n",
    "import statsmodels.api as sm\n",
    "from statsmodels.formula.api import ols\n",
    "from sklearn.ensemble import RandomForestRegressor"
   ]
  },
  {
   "cell_type": "markdown",
   "metadata": {},
   "source": [
    "## 2. EDA 및 데이터 전처리 📂"
   ]
  },
  {
   "cell_type": "code",
   "execution_count": 610,
   "metadata": {},
   "outputs": [],
   "source": [
    "train = pd.read_csv('train.csv')\n",
    "test = pd.read_csv('test.csv')"
   ]
  },
  {
   "cell_type": "markdown",
   "metadata": {},
   "source": [
    "### 간단한 EDA"
   ]
  },
  {
   "cell_type": "code",
   "execution_count": 611,
   "metadata": {},
   "outputs": [
    {
     "data": {
      "text/html": [
       "<div>\n",
       "<style scoped>\n",
       "    .dataframe tbody tr th:only-of-type {\n",
       "        vertical-align: middle;\n",
       "    }\n",
       "\n",
       "    .dataframe tbody tr th {\n",
       "        vertical-align: top;\n",
       "    }\n",
       "\n",
       "    .dataframe thead th {\n",
       "        text-align: right;\n",
       "    }\n",
       "</style>\n",
       "<table border=\"1\" class=\"dataframe\">\n",
       "  <thead>\n",
       "    <tr style=\"text-align: right;\">\n",
       "      <th></th>\n",
       "      <th>id</th>\n",
       "      <th>hour</th>\n",
       "      <th>hour_bef_temperature</th>\n",
       "      <th>hour_bef_precipitation</th>\n",
       "      <th>hour_bef_windspeed</th>\n",
       "      <th>hour_bef_humidity</th>\n",
       "      <th>hour_bef_visibility</th>\n",
       "      <th>hour_bef_ozone</th>\n",
       "      <th>hour_bef_pm10</th>\n",
       "      <th>hour_bef_pm2.5</th>\n",
       "      <th>count</th>\n",
       "    </tr>\n",
       "  </thead>\n",
       "  <tbody>\n",
       "    <tr>\n",
       "      <th>0</th>\n",
       "      <td>3</td>\n",
       "      <td>20</td>\n",
       "      <td>16.3</td>\n",
       "      <td>1.0</td>\n",
       "      <td>1.5</td>\n",
       "      <td>89.0</td>\n",
       "      <td>576.0</td>\n",
       "      <td>0.027</td>\n",
       "      <td>76.0</td>\n",
       "      <td>33.0</td>\n",
       "      <td>49</td>\n",
       "    </tr>\n",
       "    <tr>\n",
       "      <th>1</th>\n",
       "      <td>6</td>\n",
       "      <td>13</td>\n",
       "      <td>20.1</td>\n",
       "      <td>0.0</td>\n",
       "      <td>1.4</td>\n",
       "      <td>48.0</td>\n",
       "      <td>916.0</td>\n",
       "      <td>0.042</td>\n",
       "      <td>73.0</td>\n",
       "      <td>40.0</td>\n",
       "      <td>159</td>\n",
       "    </tr>\n",
       "    <tr>\n",
       "      <th>2</th>\n",
       "      <td>7</td>\n",
       "      <td>6</td>\n",
       "      <td>13.9</td>\n",
       "      <td>0.0</td>\n",
       "      <td>0.7</td>\n",
       "      <td>79.0</td>\n",
       "      <td>1382.0</td>\n",
       "      <td>0.033</td>\n",
       "      <td>32.0</td>\n",
       "      <td>19.0</td>\n",
       "      <td>26</td>\n",
       "    </tr>\n",
       "    <tr>\n",
       "      <th>3</th>\n",
       "      <td>8</td>\n",
       "      <td>23</td>\n",
       "      <td>8.1</td>\n",
       "      <td>0.0</td>\n",
       "      <td>2.7</td>\n",
       "      <td>54.0</td>\n",
       "      <td>946.0</td>\n",
       "      <td>0.040</td>\n",
       "      <td>75.0</td>\n",
       "      <td>64.0</td>\n",
       "      <td>57</td>\n",
       "    </tr>\n",
       "    <tr>\n",
       "      <th>4</th>\n",
       "      <td>9</td>\n",
       "      <td>18</td>\n",
       "      <td>29.5</td>\n",
       "      <td>0.0</td>\n",
       "      <td>4.8</td>\n",
       "      <td>7.0</td>\n",
       "      <td>2000.0</td>\n",
       "      <td>0.057</td>\n",
       "      <td>27.0</td>\n",
       "      <td>11.0</td>\n",
       "      <td>431</td>\n",
       "    </tr>\n",
       "    <tr>\n",
       "      <th>...</th>\n",
       "      <td>...</td>\n",
       "      <td>...</td>\n",
       "      <td>...</td>\n",
       "      <td>...</td>\n",
       "      <td>...</td>\n",
       "      <td>...</td>\n",
       "      <td>...</td>\n",
       "      <td>...</td>\n",
       "      <td>...</td>\n",
       "      <td>...</td>\n",
       "      <td>...</td>\n",
       "    </tr>\n",
       "    <tr>\n",
       "      <th>1454</th>\n",
       "      <td>2174</td>\n",
       "      <td>4</td>\n",
       "      <td>16.8</td>\n",
       "      <td>0.0</td>\n",
       "      <td>1.6</td>\n",
       "      <td>53.0</td>\n",
       "      <td>2000.0</td>\n",
       "      <td>0.031</td>\n",
       "      <td>37.0</td>\n",
       "      <td>27.0</td>\n",
       "      <td>21</td>\n",
       "    </tr>\n",
       "    <tr>\n",
       "      <th>1455</th>\n",
       "      <td>2175</td>\n",
       "      <td>3</td>\n",
       "      <td>10.8</td>\n",
       "      <td>0.0</td>\n",
       "      <td>3.8</td>\n",
       "      <td>45.0</td>\n",
       "      <td>2000.0</td>\n",
       "      <td>0.039</td>\n",
       "      <td>34.0</td>\n",
       "      <td>19.0</td>\n",
       "      <td>20</td>\n",
       "    </tr>\n",
       "    <tr>\n",
       "      <th>1456</th>\n",
       "      <td>2176</td>\n",
       "      <td>5</td>\n",
       "      <td>18.3</td>\n",
       "      <td>0.0</td>\n",
       "      <td>1.9</td>\n",
       "      <td>54.0</td>\n",
       "      <td>2000.0</td>\n",
       "      <td>0.009</td>\n",
       "      <td>30.0</td>\n",
       "      <td>21.0</td>\n",
       "      <td>22</td>\n",
       "    </tr>\n",
       "    <tr>\n",
       "      <th>1457</th>\n",
       "      <td>2178</td>\n",
       "      <td>21</td>\n",
       "      <td>20.7</td>\n",
       "      <td>0.0</td>\n",
       "      <td>3.7</td>\n",
       "      <td>37.0</td>\n",
       "      <td>1395.0</td>\n",
       "      <td>0.082</td>\n",
       "      <td>71.0</td>\n",
       "      <td>36.0</td>\n",
       "      <td>216</td>\n",
       "    </tr>\n",
       "    <tr>\n",
       "      <th>1458</th>\n",
       "      <td>2179</td>\n",
       "      <td>17</td>\n",
       "      <td>21.1</td>\n",
       "      <td>0.0</td>\n",
       "      <td>3.1</td>\n",
       "      <td>47.0</td>\n",
       "      <td>1973.0</td>\n",
       "      <td>0.046</td>\n",
       "      <td>38.0</td>\n",
       "      <td>17.0</td>\n",
       "      <td>170</td>\n",
       "    </tr>\n",
       "  </tbody>\n",
       "</table>\n",
       "<p>1459 rows × 11 columns</p>\n",
       "</div>"
      ],
      "text/plain": [
       "        id  hour  hour_bef_temperature  hour_bef_precipitation  \\\n",
       "0        3    20                  16.3                     1.0   \n",
       "1        6    13                  20.1                     0.0   \n",
       "2        7     6                  13.9                     0.0   \n",
       "3        8    23                   8.1                     0.0   \n",
       "4        9    18                  29.5                     0.0   \n",
       "...    ...   ...                   ...                     ...   \n",
       "1454  2174     4                  16.8                     0.0   \n",
       "1455  2175     3                  10.8                     0.0   \n",
       "1456  2176     5                  18.3                     0.0   \n",
       "1457  2178    21                  20.7                     0.0   \n",
       "1458  2179    17                  21.1                     0.0   \n",
       "\n",
       "      hour_bef_windspeed  hour_bef_humidity  hour_bef_visibility  \\\n",
       "0                    1.5               89.0                576.0   \n",
       "1                    1.4               48.0                916.0   \n",
       "2                    0.7               79.0               1382.0   \n",
       "3                    2.7               54.0                946.0   \n",
       "4                    4.8                7.0               2000.0   \n",
       "...                  ...                ...                  ...   \n",
       "1454                 1.6               53.0               2000.0   \n",
       "1455                 3.8               45.0               2000.0   \n",
       "1456                 1.9               54.0               2000.0   \n",
       "1457                 3.7               37.0               1395.0   \n",
       "1458                 3.1               47.0               1973.0   \n",
       "\n",
       "      hour_bef_ozone  hour_bef_pm10  hour_bef_pm2.5  count  \n",
       "0              0.027           76.0            33.0     49  \n",
       "1              0.042           73.0            40.0    159  \n",
       "2              0.033           32.0            19.0     26  \n",
       "3              0.040           75.0            64.0     57  \n",
       "4              0.057           27.0            11.0    431  \n",
       "...              ...            ...             ...    ...  \n",
       "1454           0.031           37.0            27.0     21  \n",
       "1455           0.039           34.0            19.0     20  \n",
       "1456           0.009           30.0            21.0     22  \n",
       "1457           0.082           71.0            36.0    216  \n",
       "1458           0.046           38.0            17.0    170  \n",
       "\n",
       "[1459 rows x 11 columns]"
      ]
     },
     "execution_count": 611,
     "metadata": {},
     "output_type": "execute_result"
    }
   ],
   "source": [
    "train"
   ]
  },
  {
   "cell_type": "code",
   "execution_count": 612,
   "metadata": {},
   "outputs": [
    {
     "data": {
      "text/html": [
       "<div>\n",
       "<style scoped>\n",
       "    .dataframe tbody tr th:only-of-type {\n",
       "        vertical-align: middle;\n",
       "    }\n",
       "\n",
       "    .dataframe tbody tr th {\n",
       "        vertical-align: top;\n",
       "    }\n",
       "\n",
       "    .dataframe thead th {\n",
       "        text-align: right;\n",
       "    }\n",
       "</style>\n",
       "<table border=\"1\" class=\"dataframe\">\n",
       "  <thead>\n",
       "    <tr style=\"text-align: right;\">\n",
       "      <th></th>\n",
       "      <th>id</th>\n",
       "      <th>hour</th>\n",
       "      <th>hour_bef_temperature</th>\n",
       "      <th>hour_bef_precipitation</th>\n",
       "      <th>hour_bef_windspeed</th>\n",
       "      <th>hour_bef_humidity</th>\n",
       "      <th>hour_bef_visibility</th>\n",
       "      <th>hour_bef_ozone</th>\n",
       "      <th>hour_bef_pm10</th>\n",
       "      <th>hour_bef_pm2.5</th>\n",
       "    </tr>\n",
       "  </thead>\n",
       "  <tbody>\n",
       "    <tr>\n",
       "      <th>0</th>\n",
       "      <td>0</td>\n",
       "      <td>7</td>\n",
       "      <td>20.7</td>\n",
       "      <td>0.0</td>\n",
       "      <td>1.3</td>\n",
       "      <td>62.0</td>\n",
       "      <td>954.0</td>\n",
       "      <td>0.041</td>\n",
       "      <td>44.0</td>\n",
       "      <td>27.0</td>\n",
       "    </tr>\n",
       "    <tr>\n",
       "      <th>1</th>\n",
       "      <td>1</td>\n",
       "      <td>17</td>\n",
       "      <td>30.0</td>\n",
       "      <td>0.0</td>\n",
       "      <td>5.4</td>\n",
       "      <td>33.0</td>\n",
       "      <td>1590.0</td>\n",
       "      <td>0.061</td>\n",
       "      <td>49.0</td>\n",
       "      <td>36.0</td>\n",
       "    </tr>\n",
       "    <tr>\n",
       "      <th>2</th>\n",
       "      <td>2</td>\n",
       "      <td>13</td>\n",
       "      <td>19.0</td>\n",
       "      <td>1.0</td>\n",
       "      <td>2.1</td>\n",
       "      <td>95.0</td>\n",
       "      <td>193.0</td>\n",
       "      <td>0.020</td>\n",
       "      <td>36.0</td>\n",
       "      <td>28.0</td>\n",
       "    </tr>\n",
       "    <tr>\n",
       "      <th>3</th>\n",
       "      <td>4</td>\n",
       "      <td>6</td>\n",
       "      <td>22.5</td>\n",
       "      <td>0.0</td>\n",
       "      <td>2.5</td>\n",
       "      <td>60.0</td>\n",
       "      <td>1185.0</td>\n",
       "      <td>0.027</td>\n",
       "      <td>52.0</td>\n",
       "      <td>38.0</td>\n",
       "    </tr>\n",
       "    <tr>\n",
       "      <th>4</th>\n",
       "      <td>5</td>\n",
       "      <td>22</td>\n",
       "      <td>14.6</td>\n",
       "      <td>1.0</td>\n",
       "      <td>3.4</td>\n",
       "      <td>93.0</td>\n",
       "      <td>218.0</td>\n",
       "      <td>0.041</td>\n",
       "      <td>18.0</td>\n",
       "      <td>15.0</td>\n",
       "    </tr>\n",
       "    <tr>\n",
       "      <th>...</th>\n",
       "      <td>...</td>\n",
       "      <td>...</td>\n",
       "      <td>...</td>\n",
       "      <td>...</td>\n",
       "      <td>...</td>\n",
       "      <td>...</td>\n",
       "      <td>...</td>\n",
       "      <td>...</td>\n",
       "      <td>...</td>\n",
       "      <td>...</td>\n",
       "    </tr>\n",
       "    <tr>\n",
       "      <th>710</th>\n",
       "      <td>2148</td>\n",
       "      <td>1</td>\n",
       "      <td>24.6</td>\n",
       "      <td>0.0</td>\n",
       "      <td>2.4</td>\n",
       "      <td>60.0</td>\n",
       "      <td>1745.0</td>\n",
       "      <td>NaN</td>\n",
       "      <td>NaN</td>\n",
       "      <td>NaN</td>\n",
       "    </tr>\n",
       "    <tr>\n",
       "      <th>711</th>\n",
       "      <td>2149</td>\n",
       "      <td>1</td>\n",
       "      <td>18.1</td>\n",
       "      <td>0.0</td>\n",
       "      <td>1.0</td>\n",
       "      <td>55.0</td>\n",
       "      <td>2000.0</td>\n",
       "      <td>NaN</td>\n",
       "      <td>NaN</td>\n",
       "      <td>NaN</td>\n",
       "    </tr>\n",
       "    <tr>\n",
       "      <th>712</th>\n",
       "      <td>2165</td>\n",
       "      <td>9</td>\n",
       "      <td>23.3</td>\n",
       "      <td>0.0</td>\n",
       "      <td>2.3</td>\n",
       "      <td>66.0</td>\n",
       "      <td>1789.0</td>\n",
       "      <td>0.020</td>\n",
       "      <td>17.0</td>\n",
       "      <td>15.0</td>\n",
       "    </tr>\n",
       "    <tr>\n",
       "      <th>713</th>\n",
       "      <td>2166</td>\n",
       "      <td>16</td>\n",
       "      <td>27.0</td>\n",
       "      <td>0.0</td>\n",
       "      <td>1.6</td>\n",
       "      <td>46.0</td>\n",
       "      <td>1956.0</td>\n",
       "      <td>0.032</td>\n",
       "      <td>40.0</td>\n",
       "      <td>26.0</td>\n",
       "    </tr>\n",
       "    <tr>\n",
       "      <th>714</th>\n",
       "      <td>2177</td>\n",
       "      <td>8</td>\n",
       "      <td>22.3</td>\n",
       "      <td>0.0</td>\n",
       "      <td>1.0</td>\n",
       "      <td>63.0</td>\n",
       "      <td>1277.0</td>\n",
       "      <td>0.007</td>\n",
       "      <td>30.0</td>\n",
       "      <td>24.0</td>\n",
       "    </tr>\n",
       "  </tbody>\n",
       "</table>\n",
       "<p>715 rows × 10 columns</p>\n",
       "</div>"
      ],
      "text/plain": [
       "       id  hour  hour_bef_temperature  hour_bef_precipitation  \\\n",
       "0       0     7                  20.7                     0.0   \n",
       "1       1    17                  30.0                     0.0   \n",
       "2       2    13                  19.0                     1.0   \n",
       "3       4     6                  22.5                     0.0   \n",
       "4       5    22                  14.6                     1.0   \n",
       "..    ...   ...                   ...                     ...   \n",
       "710  2148     1                  24.6                     0.0   \n",
       "711  2149     1                  18.1                     0.0   \n",
       "712  2165     9                  23.3                     0.0   \n",
       "713  2166    16                  27.0                     0.0   \n",
       "714  2177     8                  22.3                     0.0   \n",
       "\n",
       "     hour_bef_windspeed  hour_bef_humidity  hour_bef_visibility  \\\n",
       "0                   1.3               62.0                954.0   \n",
       "1                   5.4               33.0               1590.0   \n",
       "2                   2.1               95.0                193.0   \n",
       "3                   2.5               60.0               1185.0   \n",
       "4                   3.4               93.0                218.0   \n",
       "..                  ...                ...                  ...   \n",
       "710                 2.4               60.0               1745.0   \n",
       "711                 1.0               55.0               2000.0   \n",
       "712                 2.3               66.0               1789.0   \n",
       "713                 1.6               46.0               1956.0   \n",
       "714                 1.0               63.0               1277.0   \n",
       "\n",
       "     hour_bef_ozone  hour_bef_pm10  hour_bef_pm2.5  \n",
       "0             0.041           44.0            27.0  \n",
       "1             0.061           49.0            36.0  \n",
       "2             0.020           36.0            28.0  \n",
       "3             0.027           52.0            38.0  \n",
       "4             0.041           18.0            15.0  \n",
       "..              ...            ...             ...  \n",
       "710             NaN            NaN             NaN  \n",
       "711             NaN            NaN             NaN  \n",
       "712           0.020           17.0            15.0  \n",
       "713           0.032           40.0            26.0  \n",
       "714           0.007           30.0            24.0  \n",
       "\n",
       "[715 rows x 10 columns]"
      ]
     },
     "execution_count": 612,
     "metadata": {},
     "output_type": "execute_result"
    }
   ],
   "source": [
    "test"
   ]
  },
  {
   "cell_type": "code",
   "execution_count": 613,
   "metadata": {},
   "outputs": [
    {
     "name": "stdout",
     "output_type": "stream",
     "text": [
      "<class 'pandas.core.frame.DataFrame'>\n",
      "RangeIndex: 1459 entries, 0 to 1458\n",
      "Data columns (total 11 columns):\n",
      " #   Column                  Non-Null Count  Dtype  \n",
      "---  ------                  --------------  -----  \n",
      " 0   id                      1459 non-null   int64  \n",
      " 1   hour                    1459 non-null   int64  \n",
      " 2   hour_bef_temperature    1457 non-null   float64\n",
      " 3   hour_bef_precipitation  1457 non-null   float64\n",
      " 4   hour_bef_windspeed      1450 non-null   float64\n",
      " 5   hour_bef_humidity       1457 non-null   float64\n",
      " 6   hour_bef_visibility     1457 non-null   float64\n",
      " 7   hour_bef_ozone          1383 non-null   float64\n",
      " 8   hour_bef_pm10           1369 non-null   float64\n",
      " 9   hour_bef_pm2.5          1342 non-null   float64\n",
      " 10  count                   1459 non-null   int64  \n",
      "dtypes: float64(8), int64(3)\n",
      "memory usage: 125.5 KB\n"
     ]
    }
   ],
   "source": [
    "train.info()"
   ]
  },
  {
   "cell_type": "code",
   "execution_count": 614,
   "metadata": {},
   "outputs": [
    {
     "name": "stdout",
     "output_type": "stream",
     "text": [
      "<class 'pandas.core.frame.DataFrame'>\n",
      "RangeIndex: 715 entries, 0 to 714\n",
      "Data columns (total 10 columns):\n",
      " #   Column                  Non-Null Count  Dtype  \n",
      "---  ------                  --------------  -----  \n",
      " 0   id                      715 non-null    int64  \n",
      " 1   hour                    715 non-null    int64  \n",
      " 2   hour_bef_temperature    714 non-null    float64\n",
      " 3   hour_bef_precipitation  714 non-null    float64\n",
      " 4   hour_bef_windspeed      714 non-null    float64\n",
      " 5   hour_bef_humidity       714 non-null    float64\n",
      " 6   hour_bef_visibility     714 non-null    float64\n",
      " 7   hour_bef_ozone          680 non-null    float64\n",
      " 8   hour_bef_pm10           678 non-null    float64\n",
      " 9   hour_bef_pm2.5          679 non-null    float64\n",
      "dtypes: float64(8), int64(2)\n",
      "memory usage: 56.0 KB\n"
     ]
    }
   ],
   "source": [
    "test.info()"
   ]
  },
  {
   "cell_type": "code",
   "execution_count": 615,
   "metadata": {},
   "outputs": [
    {
     "data": {
      "text/html": [
       "<div>\n",
       "<style scoped>\n",
       "    .dataframe tbody tr th:only-of-type {\n",
       "        vertical-align: middle;\n",
       "    }\n",
       "\n",
       "    .dataframe tbody tr th {\n",
       "        vertical-align: top;\n",
       "    }\n",
       "\n",
       "    .dataframe thead th {\n",
       "        text-align: right;\n",
       "    }\n",
       "</style>\n",
       "<table border=\"1\" class=\"dataframe\">\n",
       "  <thead>\n",
       "    <tr style=\"text-align: right;\">\n",
       "      <th></th>\n",
       "      <th>id</th>\n",
       "      <th>hour</th>\n",
       "      <th>hour_bef_temperature</th>\n",
       "      <th>hour_bef_precipitation</th>\n",
       "      <th>hour_bef_windspeed</th>\n",
       "      <th>hour_bef_humidity</th>\n",
       "      <th>hour_bef_visibility</th>\n",
       "      <th>hour_bef_ozone</th>\n",
       "      <th>hour_bef_pm10</th>\n",
       "      <th>hour_bef_pm2.5</th>\n",
       "      <th>count</th>\n",
       "    </tr>\n",
       "  </thead>\n",
       "  <tbody>\n",
       "    <tr>\n",
       "      <th>count</th>\n",
       "      <td>1459.000000</td>\n",
       "      <td>1459.000000</td>\n",
       "      <td>1457.000000</td>\n",
       "      <td>1457.000000</td>\n",
       "      <td>1450.000000</td>\n",
       "      <td>1457.000000</td>\n",
       "      <td>1457.000000</td>\n",
       "      <td>1383.000000</td>\n",
       "      <td>1369.000000</td>\n",
       "      <td>1342.000000</td>\n",
       "      <td>1459.000000</td>\n",
       "    </tr>\n",
       "    <tr>\n",
       "      <th>mean</th>\n",
       "      <td>1105.914325</td>\n",
       "      <td>11.493489</td>\n",
       "      <td>16.717433</td>\n",
       "      <td>0.031572</td>\n",
       "      <td>2.479034</td>\n",
       "      <td>52.231297</td>\n",
       "      <td>1405.216884</td>\n",
       "      <td>0.039149</td>\n",
       "      <td>57.168736</td>\n",
       "      <td>30.327124</td>\n",
       "      <td>108.563400</td>\n",
       "    </tr>\n",
       "    <tr>\n",
       "      <th>std</th>\n",
       "      <td>631.338681</td>\n",
       "      <td>6.922790</td>\n",
       "      <td>5.239150</td>\n",
       "      <td>0.174917</td>\n",
       "      <td>1.378265</td>\n",
       "      <td>20.370387</td>\n",
       "      <td>583.131708</td>\n",
       "      <td>0.019509</td>\n",
       "      <td>31.771019</td>\n",
       "      <td>14.713252</td>\n",
       "      <td>82.631733</td>\n",
       "    </tr>\n",
       "    <tr>\n",
       "      <th>min</th>\n",
       "      <td>3.000000</td>\n",
       "      <td>0.000000</td>\n",
       "      <td>3.100000</td>\n",
       "      <td>0.000000</td>\n",
       "      <td>0.000000</td>\n",
       "      <td>7.000000</td>\n",
       "      <td>78.000000</td>\n",
       "      <td>0.003000</td>\n",
       "      <td>9.000000</td>\n",
       "      <td>8.000000</td>\n",
       "      <td>1.000000</td>\n",
       "    </tr>\n",
       "    <tr>\n",
       "      <th>25%</th>\n",
       "      <td>555.500000</td>\n",
       "      <td>5.500000</td>\n",
       "      <td>12.800000</td>\n",
       "      <td>0.000000</td>\n",
       "      <td>1.400000</td>\n",
       "      <td>36.000000</td>\n",
       "      <td>879.000000</td>\n",
       "      <td>0.025500</td>\n",
       "      <td>36.000000</td>\n",
       "      <td>20.000000</td>\n",
       "      <td>37.000000</td>\n",
       "    </tr>\n",
       "    <tr>\n",
       "      <th>50%</th>\n",
       "      <td>1115.000000</td>\n",
       "      <td>11.000000</td>\n",
       "      <td>16.600000</td>\n",
       "      <td>0.000000</td>\n",
       "      <td>2.300000</td>\n",
       "      <td>51.000000</td>\n",
       "      <td>1577.000000</td>\n",
       "      <td>0.039000</td>\n",
       "      <td>51.000000</td>\n",
       "      <td>26.000000</td>\n",
       "      <td>96.000000</td>\n",
       "    </tr>\n",
       "    <tr>\n",
       "      <th>75%</th>\n",
       "      <td>1651.000000</td>\n",
       "      <td>17.500000</td>\n",
       "      <td>20.100000</td>\n",
       "      <td>0.000000</td>\n",
       "      <td>3.400000</td>\n",
       "      <td>69.000000</td>\n",
       "      <td>1994.000000</td>\n",
       "      <td>0.052000</td>\n",
       "      <td>69.000000</td>\n",
       "      <td>37.000000</td>\n",
       "      <td>150.000000</td>\n",
       "    </tr>\n",
       "    <tr>\n",
       "      <th>max</th>\n",
       "      <td>2179.000000</td>\n",
       "      <td>23.000000</td>\n",
       "      <td>30.000000</td>\n",
       "      <td>1.000000</td>\n",
       "      <td>8.000000</td>\n",
       "      <td>99.000000</td>\n",
       "      <td>2000.000000</td>\n",
       "      <td>0.125000</td>\n",
       "      <td>269.000000</td>\n",
       "      <td>90.000000</td>\n",
       "      <td>431.000000</td>\n",
       "    </tr>\n",
       "  </tbody>\n",
       "</table>\n",
       "</div>"
      ],
      "text/plain": [
       "                id         hour  hour_bef_temperature  hour_bef_precipitation  \\\n",
       "count  1459.000000  1459.000000           1457.000000             1457.000000   \n",
       "mean   1105.914325    11.493489             16.717433                0.031572   \n",
       "std     631.338681     6.922790              5.239150                0.174917   \n",
       "min       3.000000     0.000000              3.100000                0.000000   \n",
       "25%     555.500000     5.500000             12.800000                0.000000   \n",
       "50%    1115.000000    11.000000             16.600000                0.000000   \n",
       "75%    1651.000000    17.500000             20.100000                0.000000   \n",
       "max    2179.000000    23.000000             30.000000                1.000000   \n",
       "\n",
       "       hour_bef_windspeed  hour_bef_humidity  hour_bef_visibility  \\\n",
       "count         1450.000000        1457.000000          1457.000000   \n",
       "mean             2.479034          52.231297          1405.216884   \n",
       "std              1.378265          20.370387           583.131708   \n",
       "min              0.000000           7.000000            78.000000   \n",
       "25%              1.400000          36.000000           879.000000   \n",
       "50%              2.300000          51.000000          1577.000000   \n",
       "75%              3.400000          69.000000          1994.000000   \n",
       "max              8.000000          99.000000          2000.000000   \n",
       "\n",
       "       hour_bef_ozone  hour_bef_pm10  hour_bef_pm2.5        count  \n",
       "count     1383.000000    1369.000000     1342.000000  1459.000000  \n",
       "mean         0.039149      57.168736       30.327124   108.563400  \n",
       "std          0.019509      31.771019       14.713252    82.631733  \n",
       "min          0.003000       9.000000        8.000000     1.000000  \n",
       "25%          0.025500      36.000000       20.000000    37.000000  \n",
       "50%          0.039000      51.000000       26.000000    96.000000  \n",
       "75%          0.052000      69.000000       37.000000   150.000000  \n",
       "max          0.125000     269.000000       90.000000   431.000000  "
      ]
     },
     "execution_count": 615,
     "metadata": {},
     "output_type": "execute_result"
    }
   ],
   "source": [
    "train.describe()"
   ]
  },
  {
   "cell_type": "code",
   "execution_count": 616,
   "metadata": {},
   "outputs": [
    {
     "data": {
      "text/html": [
       "<div>\n",
       "<style scoped>\n",
       "    .dataframe tbody tr th:only-of-type {\n",
       "        vertical-align: middle;\n",
       "    }\n",
       "\n",
       "    .dataframe tbody tr th {\n",
       "        vertical-align: top;\n",
       "    }\n",
       "\n",
       "    .dataframe thead th {\n",
       "        text-align: right;\n",
       "    }\n",
       "</style>\n",
       "<table border=\"1\" class=\"dataframe\">\n",
       "  <thead>\n",
       "    <tr style=\"text-align: right;\">\n",
       "      <th></th>\n",
       "      <th>id</th>\n",
       "      <th>hour</th>\n",
       "      <th>hour_bef_temperature</th>\n",
       "      <th>hour_bef_precipitation</th>\n",
       "      <th>hour_bef_windspeed</th>\n",
       "      <th>hour_bef_humidity</th>\n",
       "      <th>hour_bef_visibility</th>\n",
       "      <th>hour_bef_ozone</th>\n",
       "      <th>hour_bef_pm10</th>\n",
       "      <th>hour_bef_pm2.5</th>\n",
       "    </tr>\n",
       "  </thead>\n",
       "  <tbody>\n",
       "    <tr>\n",
       "      <th>count</th>\n",
       "      <td>715.000000</td>\n",
       "      <td>715.000000</td>\n",
       "      <td>714.000000</td>\n",
       "      <td>714.000000</td>\n",
       "      <td>714.000000</td>\n",
       "      <td>714.000000</td>\n",
       "      <td>714.000000</td>\n",
       "      <td>680.000000</td>\n",
       "      <td>678.000000</td>\n",
       "      <td>679.000000</td>\n",
       "    </tr>\n",
       "    <tr>\n",
       "      <th>mean</th>\n",
       "      <td>1056.854545</td>\n",
       "      <td>11.472727</td>\n",
       "      <td>23.263305</td>\n",
       "      <td>0.051821</td>\n",
       "      <td>2.388515</td>\n",
       "      <td>56.668067</td>\n",
       "      <td>1359.494398</td>\n",
       "      <td>0.041196</td>\n",
       "      <td>36.930678</td>\n",
       "      <td>24.939617</td>\n",
       "    </tr>\n",
       "    <tr>\n",
       "      <th>std</th>\n",
       "      <td>625.574471</td>\n",
       "      <td>6.928427</td>\n",
       "      <td>4.039645</td>\n",
       "      <td>0.221820</td>\n",
       "      <td>1.171270</td>\n",
       "      <td>19.661880</td>\n",
       "      <td>614.171870</td>\n",
       "      <td>0.020656</td>\n",
       "      <td>12.641503</td>\n",
       "      <td>10.075857</td>\n",
       "    </tr>\n",
       "    <tr>\n",
       "      <th>min</th>\n",
       "      <td>0.000000</td>\n",
       "      <td>0.000000</td>\n",
       "      <td>14.600000</td>\n",
       "      <td>0.000000</td>\n",
       "      <td>0.000000</td>\n",
       "      <td>16.000000</td>\n",
       "      <td>126.000000</td>\n",
       "      <td>0.003000</td>\n",
       "      <td>9.000000</td>\n",
       "      <td>7.000000</td>\n",
       "    </tr>\n",
       "    <tr>\n",
       "      <th>25%</th>\n",
       "      <td>507.000000</td>\n",
       "      <td>5.500000</td>\n",
       "      <td>20.300000</td>\n",
       "      <td>0.000000</td>\n",
       "      <td>1.500000</td>\n",
       "      <td>42.000000</td>\n",
       "      <td>807.250000</td>\n",
       "      <td>0.027000</td>\n",
       "      <td>28.000000</td>\n",
       "      <td>17.000000</td>\n",
       "    </tr>\n",
       "    <tr>\n",
       "      <th>50%</th>\n",
       "      <td>1046.000000</td>\n",
       "      <td>11.000000</td>\n",
       "      <td>22.900000</td>\n",
       "      <td>0.000000</td>\n",
       "      <td>2.300000</td>\n",
       "      <td>55.000000</td>\n",
       "      <td>1489.000000</td>\n",
       "      <td>0.039000</td>\n",
       "      <td>35.000000</td>\n",
       "      <td>24.000000</td>\n",
       "    </tr>\n",
       "    <tr>\n",
       "      <th>75%</th>\n",
       "      <td>1616.500000</td>\n",
       "      <td>17.000000</td>\n",
       "      <td>26.375000</td>\n",
       "      <td>0.000000</td>\n",
       "      <td>3.275000</td>\n",
       "      <td>73.750000</td>\n",
       "      <td>2000.000000</td>\n",
       "      <td>0.052250</td>\n",
       "      <td>45.000000</td>\n",
       "      <td>31.000000</td>\n",
       "    </tr>\n",
       "    <tr>\n",
       "      <th>max</th>\n",
       "      <td>2177.000000</td>\n",
       "      <td>23.000000</td>\n",
       "      <td>33.800000</td>\n",
       "      <td>1.000000</td>\n",
       "      <td>5.900000</td>\n",
       "      <td>100.000000</td>\n",
       "      <td>2000.000000</td>\n",
       "      <td>0.138000</td>\n",
       "      <td>94.000000</td>\n",
       "      <td>69.000000</td>\n",
       "    </tr>\n",
       "  </tbody>\n",
       "</table>\n",
       "</div>"
      ],
      "text/plain": [
       "                id        hour  hour_bef_temperature  hour_bef_precipitation  \\\n",
       "count   715.000000  715.000000            714.000000              714.000000   \n",
       "mean   1056.854545   11.472727             23.263305                0.051821   \n",
       "std     625.574471    6.928427              4.039645                0.221820   \n",
       "min       0.000000    0.000000             14.600000                0.000000   \n",
       "25%     507.000000    5.500000             20.300000                0.000000   \n",
       "50%    1046.000000   11.000000             22.900000                0.000000   \n",
       "75%    1616.500000   17.000000             26.375000                0.000000   \n",
       "max    2177.000000   23.000000             33.800000                1.000000   \n",
       "\n",
       "       hour_bef_windspeed  hour_bef_humidity  hour_bef_visibility  \\\n",
       "count          714.000000         714.000000           714.000000   \n",
       "mean             2.388515          56.668067          1359.494398   \n",
       "std              1.171270          19.661880           614.171870   \n",
       "min              0.000000          16.000000           126.000000   \n",
       "25%              1.500000          42.000000           807.250000   \n",
       "50%              2.300000          55.000000          1489.000000   \n",
       "75%              3.275000          73.750000          2000.000000   \n",
       "max              5.900000         100.000000          2000.000000   \n",
       "\n",
       "       hour_bef_ozone  hour_bef_pm10  hour_bef_pm2.5  \n",
       "count      680.000000     678.000000      679.000000  \n",
       "mean         0.041196      36.930678       24.939617  \n",
       "std          0.020656      12.641503       10.075857  \n",
       "min          0.003000       9.000000        7.000000  \n",
       "25%          0.027000      28.000000       17.000000  \n",
       "50%          0.039000      35.000000       24.000000  \n",
       "75%          0.052250      45.000000       31.000000  \n",
       "max          0.138000      94.000000       69.000000  "
      ]
     },
     "execution_count": 616,
     "metadata": {},
     "output_type": "execute_result"
    }
   ],
   "source": [
    "test.describe()"
   ]
  },
  {
   "cell_type": "markdown",
   "metadata": {},
   "source": [
    "- Train Set과 Test Set의 예측 변수들의 평균, 최솟값 등을 보았을 때 hour_bef_Temperature처럼 크게 차이나는 (평균이 16과 23) 변수들을 몇 개 발견할 수 있었다. 이는 예측 모델링 시 유의해야 할 점인 것 같다."
   ]
  },
  {
   "cell_type": "code",
   "execution_count": 617,
   "metadata": {},
   "outputs": [
    {
     "data": {
      "text/plain": [
       "<matplotlib.axes._subplots.AxesSubplot at 0x175a37e2ac0>"
      ]
     },
     "execution_count": 617,
     "metadata": {},
     "output_type": "execute_result"
    },
    {
     "data": {
      "image/png": "[encoded data removed]",
      "text/plain": [
       "<Figure size 432x288 with 1 Axes>"
      ]
     },
     "metadata": {
      "needs_background": "light"
     },
     "output_type": "display_data"
    }
   ],
   "source": [
    "# Train Set의 타겟 변수 분포 확인\n",
    "train['count'].hist()"
   ]
  },
  {
   "cell_type": "markdown",
   "metadata": {},
   "source": [
    "- 타겟 변수의 분포가 한 쪽으로 치우침을 알 수 있다."
   ]
  },
  {
   "cell_type": "code",
   "execution_count": 618,
   "metadata": {},
   "outputs": [
    {
     "data": {
      "text/plain": [
       "<matplotlib.axes._subplots.AxesSubplot at 0x175a80829a0>"
      ]
     },
     "execution_count": 618,
     "metadata": {},
     "output_type": "execute_result"
    },
    {
     "data": {
      "image/png": "[encoded data removed]",
      "text/plain": [
       "<Figure size 432x288 with 1 Axes>"
      ]
     },
     "metadata": {
      "needs_background": "light"
     },
     "output_type": "display_data"
    }
   ],
   "source": [
    "train.groupby(['hour'])['count'].mean().plot()"
   ]
  },
  {
   "cell_type": "markdown",
   "metadata": {},
   "source": [
    "- 오전보다는 오후가 이용량이 많다.\n",
    "- 18시에 이용량이 가장 많고, 5시에 가장 적다.\n",
    "- 따릉이 이용량이 급격하게 증가한 구간은 '7시-8시'와 '17-18시'이다. → 이는 출퇴근 시간과 연관이 있음을 추측할 수 있다."
   ]
  },
  {
   "cell_type": "code",
   "execution_count": 619,
   "metadata": {},
   "outputs": [
    {
     "data": {
      "text/plain": [
       "<matplotlib.axes._subplots.AxesSubplot at 0x175a80c9160>"
      ]
     },
     "execution_count": 619,
     "metadata": {},
     "output_type": "execute_result"
    },
    {
     "data": {
      "image/png": "[encoded data removed]",
      "text/plain": [
       "<Figure size 432x288 with 1 Axes>"
      ]
     },
     "metadata": {
      "needs_background": "light"
     },
     "output_type": "display_data"
    }
   ],
   "source": [
    "# 기온별 평균 따릉이 이용량 (temperature 변수가 연속형이기 때문에 확 튀는 부분은 평균이 아닌 특이값일 수 있음)\n",
    "train.groupby(['hour_bef_temperature'])['count'].mean().plot()"
   ]
  },
  {
   "cell_type": "code",
   "execution_count": 620,
   "metadata": {},
   "outputs": [
    {
     "data": {
      "image/png": "[encoded data removed]",
      "text/plain": [
       "<Figure size 432x288 with 1 Axes>"
      ]
     },
     "metadata": {
      "needs_background": "light"
     },
     "output_type": "display_data"
    }
   ],
   "source": [
    "# 기온과 따릉이 이용량의 산점도\n",
    "plt.scatter(train['hour_bef_temperature'], train['count'], label='data')\n",
    "plt.legend(loc='best')\n",
    "plt.xlabel('hour_bef_temperature')\n",
    "plt.ylabel('count')\n",
    "plt.show()"
   ]
  },
  {
   "cell_type": "markdown",
   "metadata": {},
   "source": [
    "- 기온이 높을수록 따릉이 이용량이 많다. "
   ]
  },
  {
   "cell_type": "code",
   "execution_count": 621,
   "metadata": {},
   "outputs": [
    {
     "data": {
      "text/html": [
       "<div>\n",
       "<style scoped>\n",
       "    .dataframe tbody tr th:only-of-type {\n",
       "        vertical-align: middle;\n",
       "    }\n",
       "\n",
       "    .dataframe tbody tr th {\n",
       "        vertical-align: top;\n",
       "    }\n",
       "\n",
       "    .dataframe thead th {\n",
       "        text-align: right;\n",
       "    }\n",
       "</style>\n",
       "<table border=\"1\" class=\"dataframe\">\n",
       "  <thead>\n",
       "    <tr style=\"text-align: right;\">\n",
       "      <th></th>\n",
       "      <th>id</th>\n",
       "      <th>hour</th>\n",
       "      <th>hour_bef_temperature</th>\n",
       "      <th>hour_bef_precipitation</th>\n",
       "      <th>hour_bef_windspeed</th>\n",
       "      <th>hour_bef_humidity</th>\n",
       "      <th>hour_bef_visibility</th>\n",
       "      <th>hour_bef_ozone</th>\n",
       "      <th>hour_bef_pm10</th>\n",
       "      <th>hour_bef_pm2.5</th>\n",
       "      <th>count</th>\n",
       "    </tr>\n",
       "  </thead>\n",
       "  <tbody>\n",
       "    <tr>\n",
       "      <th>id</th>\n",
       "      <td>1.000000</td>\n",
       "      <td>-0.010901</td>\n",
       "      <td>-0.000029</td>\n",
       "      <td>-0.056267</td>\n",
       "      <td>-0.003353</td>\n",
       "      <td>-0.017948</td>\n",
       "      <td>0.008950</td>\n",
       "      <td>0.055234</td>\n",
       "      <td>-0.025510</td>\n",
       "      <td>0.003545</td>\n",
       "      <td>-0.002131</td>\n",
       "    </tr>\n",
       "    <tr>\n",
       "      <th>hour</th>\n",
       "      <td>-0.010901</td>\n",
       "      <td>1.000000</td>\n",
       "      <td>0.407306</td>\n",
       "      <td>0.021646</td>\n",
       "      <td>0.462797</td>\n",
       "      <td>-0.329612</td>\n",
       "      <td>0.176491</td>\n",
       "      <td>0.390188</td>\n",
       "      <td>-0.035907</td>\n",
       "      <td>-0.061229</td>\n",
       "      <td>0.626047</td>\n",
       "    </tr>\n",
       "    <tr>\n",
       "      <th>hour_bef_temperature</th>\n",
       "      <td>-0.000029</td>\n",
       "      <td>0.407306</td>\n",
       "      <td>1.000000</td>\n",
       "      <td>-0.097056</td>\n",
       "      <td>0.375618</td>\n",
       "      <td>-0.496088</td>\n",
       "      <td>0.197417</td>\n",
       "      <td>0.541228</td>\n",
       "      <td>-0.003830</td>\n",
       "      <td>-0.078665</td>\n",
       "      <td>0.619404</td>\n",
       "    </tr>\n",
       "    <tr>\n",
       "      <th>hour_bef_precipitation</th>\n",
       "      <td>-0.056267</td>\n",
       "      <td>0.021646</td>\n",
       "      <td>-0.097056</td>\n",
       "      <td>1.000000</td>\n",
       "      <td>0.022746</td>\n",
       "      <td>0.276481</td>\n",
       "      <td>-0.217155</td>\n",
       "      <td>-0.062461</td>\n",
       "      <td>-0.051266</td>\n",
       "      <td>0.004742</td>\n",
       "      <td>-0.163985</td>\n",
       "    </tr>\n",
       "    <tr>\n",
       "      <th>hour_bef_windspeed</th>\n",
       "      <td>-0.003353</td>\n",
       "      <td>0.462797</td>\n",
       "      <td>0.375618</td>\n",
       "      <td>0.022746</td>\n",
       "      <td>1.000000</td>\n",
       "      <td>-0.433012</td>\n",
       "      <td>0.252092</td>\n",
       "      <td>0.520526</td>\n",
       "      <td>0.010176</td>\n",
       "      <td>-0.199113</td>\n",
       "      <td>0.459906</td>\n",
       "    </tr>\n",
       "    <tr>\n",
       "      <th>hour_bef_humidity</th>\n",
       "      <td>-0.017948</td>\n",
       "      <td>-0.329612</td>\n",
       "      <td>-0.496088</td>\n",
       "      <td>0.276481</td>\n",
       "      <td>-0.433012</td>\n",
       "      <td>1.000000</td>\n",
       "      <td>-0.592244</td>\n",
       "      <td>-0.421047</td>\n",
       "      <td>-0.108106</td>\n",
       "      <td>0.167736</td>\n",
       "      <td>-0.471142</td>\n",
       "    </tr>\n",
       "    <tr>\n",
       "      <th>hour_bef_visibility</th>\n",
       "      <td>0.008950</td>\n",
       "      <td>0.176491</td>\n",
       "      <td>0.197417</td>\n",
       "      <td>-0.217155</td>\n",
       "      <td>0.252092</td>\n",
       "      <td>-0.592244</td>\n",
       "      <td>1.000000</td>\n",
       "      <td>0.101899</td>\n",
       "      <td>-0.403277</td>\n",
       "      <td>-0.644989</td>\n",
       "      <td>0.299094</td>\n",
       "    </tr>\n",
       "    <tr>\n",
       "      <th>hour_bef_ozone</th>\n",
       "      <td>0.055234</td>\n",
       "      <td>0.390188</td>\n",
       "      <td>0.541228</td>\n",
       "      <td>-0.062461</td>\n",
       "      <td>0.520526</td>\n",
       "      <td>-0.421047</td>\n",
       "      <td>0.101899</td>\n",
       "      <td>1.000000</td>\n",
       "      <td>0.113015</td>\n",
       "      <td>0.017313</td>\n",
       "      <td>0.477614</td>\n",
       "    </tr>\n",
       "    <tr>\n",
       "      <th>hour_bef_pm10</th>\n",
       "      <td>-0.025510</td>\n",
       "      <td>-0.035907</td>\n",
       "      <td>-0.003830</td>\n",
       "      <td>-0.051266</td>\n",
       "      <td>0.010176</td>\n",
       "      <td>-0.108106</td>\n",
       "      <td>-0.403277</td>\n",
       "      <td>0.113015</td>\n",
       "      <td>1.000000</td>\n",
       "      <td>0.489558</td>\n",
       "      <td>-0.114288</td>\n",
       "    </tr>\n",
       "    <tr>\n",
       "      <th>hour_bef_pm2.5</th>\n",
       "      <td>0.003545</td>\n",
       "      <td>-0.061229</td>\n",
       "      <td>-0.078665</td>\n",
       "      <td>0.004742</td>\n",
       "      <td>-0.199113</td>\n",
       "      <td>0.167736</td>\n",
       "      <td>-0.644989</td>\n",
       "      <td>0.017313</td>\n",
       "      <td>0.489558</td>\n",
       "      <td>1.000000</td>\n",
       "      <td>-0.134293</td>\n",
       "    </tr>\n",
       "    <tr>\n",
       "      <th>count</th>\n",
       "      <td>-0.002131</td>\n",
       "      <td>0.626047</td>\n",
       "      <td>0.619404</td>\n",
       "      <td>-0.163985</td>\n",
       "      <td>0.459906</td>\n",
       "      <td>-0.471142</td>\n",
       "      <td>0.299094</td>\n",
       "      <td>0.477614</td>\n",
       "      <td>-0.114288</td>\n",
       "      <td>-0.134293</td>\n",
       "      <td>1.000000</td>\n",
       "    </tr>\n",
       "  </tbody>\n",
       "</table>\n",
       "</div>"
      ],
      "text/plain": [
       "                              id      hour  hour_bef_temperature  \\\n",
       "id                      1.000000 -0.010901             -0.000029   \n",
       "hour                   -0.010901  1.000000              0.407306   \n",
       "hour_bef_temperature   -0.000029  0.407306              1.000000   \n",
       "hour_bef_precipitation -0.056267  0.021646             -0.097056   \n",
       "hour_bef_windspeed     -0.003353  0.462797              0.375618   \n",
       "hour_bef_humidity      -0.017948 -0.329612             -0.496088   \n",
       "hour_bef_visibility     0.008950  0.176491              0.197417   \n",
       "hour_bef_ozone          0.055234  0.390188              0.541228   \n",
       "hour_bef_pm10          -0.025510 -0.035907             -0.003830   \n",
       "hour_bef_pm2.5          0.003545 -0.061229             -0.078665   \n",
       "count                  -0.002131  0.626047              0.619404   \n",
       "\n",
       "                        hour_bef_precipitation  hour_bef_windspeed  \\\n",
       "id                                   -0.056267           -0.003353   \n",
       "hour                                  0.021646            0.462797   \n",
       "hour_bef_temperature                 -0.097056            0.375618   \n",
       "hour_bef_precipitation                1.000000            0.022746   \n",
       "hour_bef_windspeed                    0.022746            1.000000   \n",
       "hour_bef_humidity                     0.276481           -0.433012   \n",
       "hour_bef_visibility                  -0.217155            0.252092   \n",
       "hour_bef_ozone                       -0.062461            0.520526   \n",
       "hour_bef_pm10                        -0.051266            0.010176   \n",
       "hour_bef_pm2.5                        0.004742           -0.199113   \n",
       "count                                -0.163985            0.459906   \n",
       "\n",
       "                        hour_bef_humidity  hour_bef_visibility  \\\n",
       "id                              -0.017948             0.008950   \n",
       "hour                            -0.329612             0.176491   \n",
       "hour_bef_temperature            -0.496088             0.197417   \n",
       "hour_bef_precipitation           0.276481            -0.217155   \n",
       "hour_bef_windspeed              -0.433012             0.252092   \n",
       "hour_bef_humidity                1.000000            -0.592244   \n",
       "hour_bef_visibility             -0.592244             1.000000   \n",
       "hour_bef_ozone                  -0.421047             0.101899   \n",
       "hour_bef_pm10                   -0.108106            -0.403277   \n",
       "hour_bef_pm2.5                   0.167736            -0.644989   \n",
       "count                           -0.471142             0.299094   \n",
       "\n",
       "                        hour_bef_ozone  hour_bef_pm10  hour_bef_pm2.5  \\\n",
       "id                            0.055234      -0.025510        0.003545   \n",
       "hour                          0.390188      -0.035907       -0.061229   \n",
       "hour_bef_temperature          0.541228      -0.003830       -0.078665   \n",
       "hour_bef_precipitation       -0.062461      -0.051266        0.004742   \n",
       "hour_bef_windspeed            0.520526       0.010176       -0.199113   \n",
       "hour_bef_humidity            -0.421047      -0.108106        0.167736   \n",
       "hour_bef_visibility           0.101899      -0.403277       -0.644989   \n",
       "hour_bef_ozone                1.000000       0.113015        0.017313   \n",
       "hour_bef_pm10                 0.113015       1.000000        0.489558   \n",
       "hour_bef_pm2.5                0.017313       0.489558        1.000000   \n",
       "count                         0.477614      -0.114288       -0.134293   \n",
       "\n",
       "                           count  \n",
       "id                     -0.002131  \n",
       "hour                    0.626047  \n",
       "hour_bef_temperature    0.619404  \n",
       "hour_bef_precipitation -0.163985  \n",
       "hour_bef_windspeed      0.459906  \n",
       "hour_bef_humidity      -0.471142  \n",
       "hour_bef_visibility     0.299094  \n",
       "hour_bef_ozone          0.477614  \n",
       "hour_bef_pm10          -0.114288  \n",
       "hour_bef_pm2.5         -0.134293  \n",
       "count                   1.000000  "
      ]
     },
     "execution_count": 621,
     "metadata": {},
     "output_type": "execute_result"
    }
   ],
   "source": [
    "# Train Set의 상관계수 확인\n",
    "train.corr()"
   ]
  },
  {
   "cell_type": "code",
   "execution_count": 622,
   "metadata": {},
   "outputs": [
    {
     "data": {
      "text/plain": [
       "hour_bef_precipitation\n",
       "0.0    111.130404\n",
       "1.0     33.673913\n",
       "Name: count, dtype: float64"
      ]
     },
     "execution_count": 622,
     "metadata": {},
     "output_type": "execute_result"
    }
   ],
   "source": [
    "# 강수량별 평균 따릉이 이용량\n",
    "train.groupby(['hour_bef_precipitation'])['count'].mean()"
   ]
  },
  {
   "cell_type": "code",
   "execution_count": 623,
   "metadata": {},
   "outputs": [
    {
     "data": {
      "image/png": "[encoded data removed]",
      "text/plain": [
       "<Figure size 432x288 with 1 Axes>"
      ]
     },
     "metadata": {
      "needs_background": "light"
     },
     "output_type": "display_data"
    }
   ],
   "source": [
    "# 강수량별 따릉이 박스플롯\n",
    "data = [train[train['hour_bef_precipitation']==0.0]['count'], \n",
    "        train[train['hour_bef_precipitation']==1.0]['count']]\n",
    "\n",
    "plt.boxplot(data, labels=['0', '1'], showmeans=True)\n",
    "plt.show()"
   ]
  },
  {
   "cell_type": "code",
   "execution_count": 624,
   "metadata": {},
   "outputs": [
    {
     "data": {
      "text/plain": [
       "<matplotlib.axes._subplots.AxesSubplot at 0x175a80fd910>"
      ]
     },
     "execution_count": 624,
     "metadata": {},
     "output_type": "execute_result"
    },
    {
     "data": {
      "image/png": "[encoded data removed]",
      "text/plain": [
       "<Figure size 864x864 with 2 Axes>"
      ]
     },
     "metadata": {
      "needs_background": "light"
     },
     "output_type": "display_data"
    }
   ],
   "source": [
    "plt.figure(figsize = (12,12))\n",
    "sns.heatmap(train.corr(),annot = True)"
   ]
  },
  {
   "cell_type": "markdown",
   "metadata": {},
   "source": [
    "- 상관계수를 통해 타겟 변수인 'count'에 가장 영향을 미치는 변수가 'hour' 시간 변수와 'hour_bef_temperature' 변수라는 것을 알 수 있다."
   ]
  },
  {
   "cell_type": "markdown",
   "metadata": {},
   "source": [
    "### 모델 학습에 필요한 필수 전처리"
   ]
  },
  {
   "cell_type": "code",
   "execution_count": 625,
   "metadata": {},
   "outputs": [],
   "source": [
    "# .으로 인한 오류로 변수명에서 .제거\n",
    "train = train.rename({'hour_bef_pm2.5': 'hour_bef_pm25'}, axis=1)\n",
    "test = test.rename({'hour_bef_pm2.5': 'hour_bef_pm25'}, axis=1)"
   ]
  },
  {
   "cell_type": "code",
   "execution_count": 626,
   "metadata": {},
   "outputs": [
    {
     "data": {
      "text/plain": [
       "id                          0\n",
       "hour                        0\n",
       "hour_bef_temperature        2\n",
       "hour_bef_precipitation      2\n",
       "hour_bef_windspeed          9\n",
       "hour_bef_humidity           2\n",
       "hour_bef_visibility         2\n",
       "hour_bef_ozone             76\n",
       "hour_bef_pm10              90\n",
       "hour_bef_pm25             117\n",
       "count                       0\n",
       "dtype: int64"
      ]
     },
     "execution_count": 626,
     "metadata": {},
     "output_type": "execute_result"
    }
   ],
   "source": [
    "# Train Set 결측치 개수 확인\n",
    "train.isna().sum()"
   ]
  },
  {
   "cell_type": "code",
   "execution_count": 627,
   "metadata": {},
   "outputs": [
    {
     "data": {
      "text/plain": [
       "id                         0\n",
       "hour                       0\n",
       "hour_bef_temperature       1\n",
       "hour_bef_precipitation     1\n",
       "hour_bef_windspeed         1\n",
       "hour_bef_humidity          1\n",
       "hour_bef_visibility        1\n",
       "hour_bef_ozone            35\n",
       "hour_bef_pm10             37\n",
       "hour_bef_pm25             36\n",
       "dtype: int64"
      ]
     },
     "execution_count": 627,
     "metadata": {},
     "output_type": "execute_result"
    }
   ],
   "source": [
    "# Test Set 결측치 개수 확인\n",
    "test.isna().sum()"
   ]
  },
  {
   "cell_type": "code",
   "execution_count": 628,
   "metadata": {},
   "outputs": [],
   "source": [
    "# 범주형 데이터 결측치 대체\n",
    "train['hour_bef_precipitation'] = train['hour_bef_precipitation'].fillna(value = train['hour_bef_precipitation'].mean())"
   ]
  },
  {
   "cell_type": "code",
   "execution_count": 629,
   "metadata": {},
   "outputs": [],
   "source": [
    "train_isna_sum = train.isna().sum()\n",
    "test_isna_sum = test.isna().sum()"
   ]
  },
  {
   "cell_type": "code",
   "execution_count": 630,
   "metadata": {
    "scrolled": true
   },
   "outputs": [
    {
     "data": {
      "text/plain": [
       "Index(['hour_bef_temperature', 'hour_bef_windspeed', 'hour_bef_humidity',\n",
       "       'hour_bef_visibility', 'hour_bef_ozone', 'hour_bef_pm10',\n",
       "       'hour_bef_pm25'],\n",
       "      dtype='object')"
      ]
     },
     "execution_count": 630,
     "metadata": {},
     "output_type": "execute_result"
    }
   ],
   "source": [
    "train_isna_sum[train_isna_sum != 0].index"
   ]
  },
  {
   "cell_type": "code",
   "execution_count": 631,
   "metadata": {},
   "outputs": [
    {
     "data": {
      "text/plain": [
       "Index(['hour_bef_temperature', 'hour_bef_precipitation', 'hour_bef_windspeed',\n",
       "       'hour_bef_humidity', 'hour_bef_visibility', 'hour_bef_ozone',\n",
       "       'hour_bef_pm10', 'hour_bef_pm25'],\n",
       "      dtype='object')"
      ]
     },
     "execution_count": 631,
     "metadata": {},
     "output_type": "execute_result"
    }
   ],
   "source": [
    "test_isna_sum[test_isna_sum != 0].index"
   ]
  },
  {
   "cell_type": "code",
   "execution_count": 632,
   "metadata": {},
   "outputs": [
    {
     "name": "stdout",
     "output_type": "stream",
     "text": [
      "hour_bef_temperature 결측값 대체 완료\n",
      "hour_bef_windspeed 결측값 대체 완료\n",
      "hour_bef_humidity 결측값 대체 완료\n",
      "hour_bef_visibility 결측값 대체 완료\n",
      "hour_bef_ozone 결측값 대체 완료\n",
      "hour_bef_pm10 결측값 대체 완료\n",
      "hour_bef_pm25 결측값 대체 완료\n"
     ]
    }
   ],
   "source": [
    "na_columns = train_isna_sum[train_isna_sum != 0].index\n",
    "\n",
    "def fill_bicycle_na(df,column) :\n",
    "    df[column] = df[column].fillna(value = df[column].mean())\n",
    "    \n",
    "for col in na_columns:\n",
    "    fill_bicycle_na(train, col)\n",
    "    print(col,'결측값 대체 완료')"
   ]
  },
  {
   "cell_type": "code",
   "execution_count": 633,
   "metadata": {},
   "outputs": [
    {
     "name": "stdout",
     "output_type": "stream",
     "text": [
      "hour_bef_temperature 결측값 대체 완료\n",
      "hour_bef_precipitation 결측값 대체 완료\n",
      "hour_bef_windspeed 결측값 대체 완료\n",
      "hour_bef_humidity 결측값 대체 완료\n",
      "hour_bef_visibility 결측값 대체 완료\n",
      "hour_bef_ozone 결측값 대체 완료\n",
      "hour_bef_pm10 결측값 대체 완료\n",
      "hour_bef_pm25 결측값 대체 완료\n"
     ]
    }
   ],
   "source": [
    "na_columns = test_isna_sum[test_isna_sum != 0].index\n",
    "\n",
    "def fill_bicycle_na(df,column) :\n",
    "    df[column] = df[column].fillna(value = df[column].mean())\n",
    "    \n",
    "for col in na_columns:\n",
    "    fill_bicycle_na(test, col)\n",
    "    print(col,'결측값 대체 완료')"
   ]
  },
  {
   "cell_type": "code",
   "execution_count": 634,
   "metadata": {},
   "outputs": [
    {
     "data": {
      "text/plain": [
       "id                        0\n",
       "hour                      0\n",
       "hour_bef_temperature      0\n",
       "hour_bef_precipitation    0\n",
       "hour_bef_windspeed        0\n",
       "hour_bef_humidity         0\n",
       "hour_bef_visibility       0\n",
       "hour_bef_ozone            0\n",
       "hour_bef_pm10             0\n",
       "hour_bef_pm25             0\n",
       "count                     0\n",
       "dtype: int64"
      ]
     },
     "execution_count": 634,
     "metadata": {},
     "output_type": "execute_result"
    }
   ],
   "source": [
    "train.isna().sum()"
   ]
  },
  {
   "cell_type": "code",
   "execution_count": 635,
   "metadata": {},
   "outputs": [
    {
     "data": {
      "text/plain": [
       "id                        0\n",
       "hour                      0\n",
       "hour_bef_temperature      0\n",
       "hour_bef_precipitation    0\n",
       "hour_bef_windspeed        0\n",
       "hour_bef_humidity         0\n",
       "hour_bef_visibility       0\n",
       "hour_bef_ozone            0\n",
       "hour_bef_pm10             0\n",
       "hour_bef_pm25             0\n",
       "dtype: int64"
      ]
     },
     "execution_count": 635,
     "metadata": {},
     "output_type": "execute_result"
    }
   ],
   "source": [
    "test.isna().sum()"
   ]
  },
  {
   "cell_type": "markdown",
   "metadata": {},
   "source": [
    "### 회귀 모형 가정 확인"
   ]
  },
  {
   "cell_type": "code",
   "execution_count": 636,
   "metadata": {},
   "outputs": [],
   "source": [
    "# 오래 걸려서 \n",
    "#sns.pairplot(train, diag_kind='hist')\n",
    "#plt.show()"
   ]
  },
  {
   "cell_type": "markdown",
   "metadata": {},
   "source": [
    "#### 선형성"
   ]
  },
  {
   "cell_type": "code",
   "execution_count": 637,
   "metadata": {},
   "outputs": [
    {
     "data": {
      "text/plain": [
       "[<matplotlib.lines.Line2D at 0x175a816a400>]"
      ]
     },
     "execution_count": 637,
     "metadata": {},
     "output_type": "execute_result"
    },
    {
     "data": {
      "image/png": "[encoded data removed]",
      "text/plain": [
       "<Figure size 432x288 with 1 Axes>"
      ]
     },
     "metadata": {
      "needs_background": "light"
     },
     "output_type": "display_data"
    }
   ],
   "source": [
    "fit = ols(formula = 'count~ hour+ hour_bef_temperature+ hour_bef_precipitation+ hour_bef_windspeed+ hour_bef_humidity+ hour_bef_visibility+ hour_bef_ozone+ hour_bef_pm10+ hour_bef_pm25', data = train).fit()\n",
    "\n",
    "fitted = fit.predict(train)\n",
    "residual = train['count'] - fitted\n",
    "\n",
    "sns.regplot(fitted, residual, lowess=True, line_kws={'color': 'red'})\n",
    "plt.plot([fitted.min(), fitted.max()], [0,0], '--', color='grey')"
   ]
  },
  {
   "cell_type": "markdown",
   "metadata": {},
   "source": [
    "- 빨간 실선이 점선에서 벗어나면 선형성이 없다는 뜻으로, 이는 선형성이 없고 이차항의 성질을 가지고 있다고 볼 수 있다."
   ]
  },
  {
   "cell_type": "markdown",
   "metadata": {},
   "source": [
    "#### 잔차의 정규성"
   ]
  },
  {
   "cell_type": "code",
   "execution_count": 638,
   "metadata": {},
   "outputs": [
    {
     "data": {
      "text/plain": [
       "0       -15.723997\n",
       "1        33.018025\n",
       "2       -31.593218\n",
       "3       -58.898507\n",
       "4       182.563033\n",
       "           ...    \n",
       "1454    -56.206086\n",
       "1455    -36.112631\n",
       "1456    -62.968526\n",
       "1457     18.821524\n",
       "1458     -3.476118\n",
       "Length: 1459, dtype: float64"
      ]
     },
     "execution_count": 638,
     "metadata": {},
     "output_type": "execute_result"
    }
   ],
   "source": [
    "residual"
   ]
  },
  {
   "cell_type": "code",
   "execution_count": 639,
   "metadata": {},
   "outputs": [
    {
     "data": {
      "text/plain": [
       "array([-0.30106905,  0.63219967, -0.60491873, ..., -1.20566512,\n",
       "        0.36037775, -0.0665576 ])"
      ]
     },
     "execution_count": 639,
     "metadata": {},
     "output_type": "execute_result"
    }
   ],
   "source": [
    "sr = scipy.stats.zscore(residual)\n",
    "sr"
   ]
  },
  {
   "cell_type": "code",
   "execution_count": 640,
   "metadata": {},
   "outputs": [
    {
     "data": {
      "text/plain": [
       "[<matplotlib.lines.Line2D at 0x175a81329d0>]"
      ]
     },
     "execution_count": 640,
     "metadata": {},
     "output_type": "execute_result"
    },
    {
     "data": {
      "image/png": "[encoded data removed]",
      "text/plain": [
       "<Figure size 432x288 with 1 Axes>"
      ]
     },
     "metadata": {
      "needs_background": "light"
     },
     "output_type": "display_data"
    }
   ],
   "source": [
    "(x, y),_ = scipy.stats.probplot(sr)\n",
    "sns.scatterplot(x,y)\n",
    "plt.plot([-3,3], [-3,3], '--', color='grey')"
   ]
  },
  {
   "cell_type": "code",
   "execution_count": 641,
   "metadata": {},
   "outputs": [
    {
     "data": {
      "text/plain": [
       "(0.9468061923980713, 1.5602854600817425e-22)"
      ]
     },
     "execution_count": 641,
     "metadata": {},
     "output_type": "execute_result"
    }
   ],
   "source": [
    "scipy.stats.shapiro(residual)"
   ]
  },
  {
   "cell_type": "code",
   "execution_count": 642,
   "metadata": {},
   "outputs": [
    {
     "name": "stdout",
     "output_type": "stream",
     "text": [
      "0.00000000000000000012\n"
     ]
    }
   ],
   "source": [
    "x = 1.1851992450676099e-19\n",
    "print(format(x, '.20f'))"
   ]
  },
  {
   "cell_type": "markdown",
   "metadata": {},
   "source": [
    "- 첫 번째 값은 검정통계치, 두 번째 값은 p-value이다. 두 번 째 값인 p-value가 유의수준 0.05보다 작기 때문에 정규분포를 따른다고 판단할 수 없다. 즉 정규성을 만족한다고 할 수 없다."
   ]
  },
  {
   "cell_type": "markdown",
   "metadata": {},
   "source": [
    "#### 잔차의 등분산성"
   ]
  },
  {
   "cell_type": "code",
   "execution_count": 643,
   "metadata": {},
   "outputs": [
    {
     "data": {
      "text/plain": [
       "<matplotlib.axes._subplots.AxesSubplot at 0x175a398fc70>"
      ]
     },
     "execution_count": 643,
     "metadata": {},
     "output_type": "execute_result"
    },
    {
     "data": {
      "image/png": "[encoded data removed]",
      "text/plain": [
       "<Figure size 432x288 with 1 Axes>"
      ]
     },
     "metadata": {
      "needs_background": "light"
     },
     "output_type": "display_data"
    }
   ],
   "source": [
    "sns.regplot(fitted, np.sqrt(np.abs(sr)), lowess = True, line_kws = {'color': 'red'})"
   ]
  },
  {
   "cell_type": "markdown",
   "metadata": {},
   "source": [
    "- 빨간색 실선이 수평선에 가까울수록 등분산성을 만족하는 것인데, 수평선에 가깝지 않을뿐 아니라 패턴이 존재하는 걸로 보아 만족했다고 할 수 없다. "
   ]
  },
  {
   "cell_type": "markdown",
   "metadata": {},
   "source": [
    "#### 잔차의 독립성"
   ]
  },
  {
   "cell_type": "code",
   "execution_count": 644,
   "metadata": {},
   "outputs": [
    {
     "name": "stdout",
     "output_type": "stream",
     "text": [
      "                            OLS Regression Results                            \n",
      "==============================================================================\n",
      "Dep. Variable:                  count   R-squared:                       0.600\n",
      "Model:                            OLS   Adj. R-squared:                  0.598\n",
      "Method:                 Least Squares   F-statistic:                     241.7\n",
      "Date:                Tue, 20 Jul 2021   Prob (F-statistic):          4.76e-281\n",
      "Time:                        23:08:32   Log-Likelihood:                -7841.5\n",
      "No. Observations:                1459   AIC:                         1.570e+04\n",
      "Df Residuals:                    1449   BIC:                         1.576e+04\n",
      "Df Model:                           9                                         \n",
      "Covariance Type:            nonrobust                                         \n",
      "==========================================================================================\n",
      "                             coef    std err          t      P>|t|      [0.025      0.975]\n",
      "------------------------------------------------------------------------------------------\n",
      "Intercept                -36.8968     17.503     -2.108      0.035     -71.230      -2.564\n",
      "hour                       4.7111      0.235     20.009      0.000       4.249       5.173\n",
      "hour_bef_temperature       5.2966      0.345     15.350      0.000       4.620       5.973\n",
      "hour_bef_precipitation   -54.4782      8.367     -6.511      0.000     -70.891     -38.066\n",
      "hour_bef_windspeed         4.7846      1.307      3.661      0.000       2.221       7.348\n",
      "hour_bef_humidity         -0.2784      0.117     -2.386      0.017      -0.507      -0.050\n",
      "hour_bef_visibility        0.0054      0.004      1.263      0.207      -0.003       0.014\n",
      "hour_bef_ozone           338.6148     95.123      3.560      0.000     152.022     525.208\n",
      "hour_bef_pm10             -0.3048      0.056     -5.401      0.000      -0.416      -0.194\n",
      "hour_bef_pm25              0.1224      0.136      0.899      0.369      -0.145       0.390\n",
      "==============================================================================\n",
      "Omnibus:                      202.268   Durbin-Watson:                   1.978\n",
      "Prob(Omnibus):                  0.000   Jarque-Bera (JB):              339.258\n",
      "Skew:                           0.909   Prob(JB):                     2.14e-74\n",
      "Kurtosis:                       4.508   Cond. No.                     1.06e+05\n",
      "==============================================================================\n",
      "\n",
      "Warnings:\n",
      "[1] Standard Errors assume that the covariance matrix of the errors is correctly specified.\n",
      "[2] The condition number is large, 1.06e+05. This might indicate that there are\n",
      "strong multicollinearity or other numerical problems.\n"
     ]
    }
   ],
   "source": [
    "fit = ols(formula = 'count~ hour+ hour_bef_temperature+ hour_bef_precipitation+ hour_bef_windspeed+ hour_bef_humidity+ hour_bef_visibility+ hour_bef_ozone+ hour_bef_pm10+ hour_bef_pm25', data = train).fit()\n",
    "print(fit.summary())"
   ]
  },
  {
   "cell_type": "markdown",
   "metadata": {},
   "source": [
    "- Durbin-Watson이 1.5 ~ 2.5 사이면 독립성을 만족한다고 가정하기 때문에 이는 독립성을 만족한다고 할 수 있다."
   ]
  },
  {
   "cell_type": "markdown",
   "metadata": {},
   "source": [
    "### Train/Test 데이터 분할 및 데이터 정규화"
   ]
  },
  {
   "cell_type": "code",
   "execution_count": 645,
   "metadata": {},
   "outputs": [],
   "source": [
    "X_data = train[['hour','hour_bef_temperature','hour_bef_precipitation',\n",
    "                'hour_bef_windspeed','hour_bef_humidity','hour_bef_visibility',\n",
    "                'hour_bef_ozone','hour_bef_pm10','hour_bef_pm25']]"
   ]
  },
  {
   "cell_type": "code",
   "execution_count": 646,
   "metadata": {},
   "outputs": [],
   "source": [
    "X_data = MinMaxScaler().fit_transform(X_data)"
   ]
  },
  {
   "cell_type": "code",
   "execution_count": 647,
   "metadata": {},
   "outputs": [
    {
     "data": {
      "text/plain": [
       "array([[0.86956522, 0.49070632, 1.        , ..., 0.19672131, 0.25769231,\n",
       "        0.30487805],\n",
       "       [0.56521739, 0.63197026, 0.        , ..., 0.31967213, 0.24615385,\n",
       "        0.3902439 ],\n",
       "       [0.26086957, 0.40148699, 0.        , ..., 0.24590164, 0.08846154,\n",
       "        0.13414634],\n",
       "       ...,\n",
       "       [0.2173913 , 0.56505576, 0.        , ..., 0.04918033, 0.08076923,\n",
       "        0.15853659],\n",
       "       [0.91304348, 0.65427509, 0.        , ..., 0.64754098, 0.23846154,\n",
       "        0.34146341],\n",
       "       [0.73913043, 0.66914498, 0.        , ..., 0.35245902, 0.11153846,\n",
       "        0.1097561 ]])"
      ]
     },
     "execution_count": 647,
     "metadata": {},
     "output_type": "execute_result"
    }
   ],
   "source": [
    "X_data"
   ]
  },
  {
   "cell_type": "code",
   "execution_count": 648,
   "metadata": {},
   "outputs": [],
   "source": [
    "y_target = train[['count']]"
   ]
  },
  {
   "cell_type": "code",
   "execution_count": 649,
   "metadata": {},
   "outputs": [],
   "source": [
    "X_train, X_test, y_train, y_test=train_test_split(X_data, y_target,\n",
    "                                                  test_size=0.2, random_state=2021)"
   ]
  },
  {
   "cell_type": "code",
   "execution_count": 650,
   "metadata": {},
   "outputs": [
    {
     "name": "stdout",
     "output_type": "stream",
     "text": [
      "(1167, 9)\n",
      "(1167, 1)\n",
      "(292, 9)\n",
      "(292, 1)\n"
     ]
    }
   ],
   "source": [
    "print(X_train.shape)\n",
    "print(y_train.shape)\n",
    "print(X_test.shape)\n",
    "print(y_test.shape)"
   ]
  },
  {
   "cell_type": "markdown",
   "metadata": {},
   "source": [
    "# 3. 모델링"
   ]
  },
  {
   "cell_type": "markdown",
   "metadata": {},
   "source": [
    "## Linear Regression"
   ]
  },
  {
   "cell_type": "code",
   "execution_count": 651,
   "metadata": {},
   "outputs": [],
   "source": [
    "from sklearn.linear_model import LinearRegression\n",
    "from sklearn.metrics import mean_squared_error, r2_score"
   ]
  },
  {
   "cell_type": "code",
   "execution_count": 652,
   "metadata": {},
   "outputs": [
    {
     "name": "stdout",
     "output_type": "stream",
     "text": [
      "lr.coef_: [[109.50356583 134.78450866 -53.30608592  42.69864492 -34.17077436\n",
      "    5.26743831  43.33660178 -84.69366618   7.03210706]]\n",
      "Train MSE:2721.505, RMSE:52.168\n",
      "Train Variance score: 0.606\n",
      "Test MSE:2768.877, RMSE:52.620\n",
      "Test Variance score: 0.571\n"
     ]
    }
   ],
   "source": [
    "lr = LinearRegression()\n",
    "lr.fit(X_train, y_train)\n",
    "\n",
    "y_pred_train = lr.predict(X_train)\n",
    "y_pred_test = lr.predict(X_test)\n",
    "\n",
    "train_mse = mean_squared_error(y_train, y_pred_train)\n",
    "train_rmse = np.sqrt(train_mse)\n",
    "\n",
    "test_mse = mean_squared_error(y_test, y_pred_test)\n",
    "test_rmse = np.sqrt(test_mse)\n",
    "\n",
    "print('lr.coef_: {}'.format(lr.coef_))\n",
    "print('Train MSE:{0:.3f}, RMSE:{1:3.3F}'.format(train_mse, train_rmse))\n",
    "print('Train Variance score: {0:.3f}'.format(r2_score(y_train, y_pred_train)))\n",
    "print('Test MSE:{0:.3f}, RMSE:{1:3.3F}'.format(test_mse, test_rmse))\n",
    "print('Test Variance score: {0:.3f}'.format(r2_score(y_test, y_pred_test)))"
   ]
  },
  {
   "cell_type": "markdown",
   "metadata": {},
   "source": [
    "## Ridge Regression"
   ]
  },
  {
   "cell_type": "code",
   "execution_count": 653,
   "metadata": {},
   "outputs": [],
   "source": [
    "from sklearn.linear_model import Ridge\n",
    "from sklearn.model_selection import cross_val_score"
   ]
  },
  {
   "cell_type": "code",
   "execution_count": 654,
   "metadata": {},
   "outputs": [
    {
     "name": "stdout",
     "output_type": "stream",
     "text": [
      "{'alpha': 1}\n",
      "-2770.239490434598\n",
      "52.6330646118445\n",
      "52.633725763146906\n"
     ]
    }
   ],
   "source": [
    "ridge = Ridge(random_state=2021)\n",
    "\n",
    "cv_method = KFold(n_splits=10)\n",
    "params = {\n",
    "    'alpha': [0.001, 0.005, 0.01, 0.015, 0.1, 1, 10]\n",
    "}\n",
    "dt_grid_cv = GridSearchCV(ridge, param_grid=params, scoring='neg_mean_squared_error', cv=cv_method, n_jobs=-1)\n",
    "dt_grid_cv.fit(X_train, y_train)\n",
    "\n",
    "y_pred_test = dt_grid_cv.predict(X_test)\n",
    "test_mse = mean_squared_error(y_test, y_pred_test)\n",
    "test_rmse = np.sqrt(test_mse)\n",
    "\n",
    "neg_mse = dt_grid_cv.best_score_\n",
    "mse = -1 * neg_mse\n",
    "rmse = np.sqrt(mse)\n",
    "\n",
    "print(dt_grid_cv.best_params_)\n",
    "print(dt_grid_cv.best_score_)\n",
    "print(rmse)\n",
    "print(test_rmse)"
   ]
  },
  {
   "cell_type": "markdown",
   "metadata": {},
   "source": [
    "## Lasso Regression"
   ]
  },
  {
   "cell_type": "code",
   "execution_count": 655,
   "metadata": {},
   "outputs": [],
   "source": [
    "from sklearn.linear_model import Lasso"
   ]
  },
  {
   "cell_type": "code",
   "execution_count": 656,
   "metadata": {},
   "outputs": [
    {
     "name": "stdout",
     "output_type": "stream",
     "text": [
      "{'alpha': 0.1}\n",
      "-2768.8752662835323\n",
      "52.620103252307786\n",
      "52.58919179756719\n"
     ]
    }
   ],
   "source": [
    "lasso = Lasso(random_state=2021)\n",
    "\n",
    "cv_method = KFold(n_splits=10)\n",
    "params = {\n",
    "    'alpha': [0.0001, 0.005, 0.01, 0.1, 1, 10]\n",
    "}\n",
    "dt_grid_cv = GridSearchCV(lasso, param_grid=params, scoring='neg_mean_squared_error', cv=cv_method, n_jobs=-1)\n",
    "dt_grid_cv.fit(X_train, y_train)\n",
    "\n",
    "y_pred_test = dt_grid_cv.predict(X_test)\n",
    "test_mse = mean_squared_error(y_test, y_pred_test)\n",
    "test_rmse = np.sqrt(test_mse)\n",
    "\n",
    "neg_mse = dt_grid_cv.best_score_\n",
    "mse = -1 * neg_mse\n",
    "rmse = np.sqrt(mse)\n",
    "\n",
    "print(dt_grid_cv.best_params_)\n",
    "print(dt_grid_cv.best_score_)\n",
    "print(rmse)\n",
    "print(test_rmse)"
   ]
  },
  {
   "cell_type": "markdown",
   "metadata": {},
   "source": [
    "## ElasticNet Regression"
   ]
  },
  {
   "cell_type": "code",
   "execution_count": 657,
   "metadata": {},
   "outputs": [],
   "source": [
    "from sklearn.linear_model import ElasticNet"
   ]
  },
  {
   "cell_type": "code",
   "execution_count": 658,
   "metadata": {},
   "outputs": [
    {
     "name": "stdout",
     "output_type": "stream",
     "text": [
      "{'alpha': 0.0001}\n",
      "-2770.9520241321434\n",
      "52.63983305570168\n",
      "52.62029429905467\n"
     ]
    }
   ],
   "source": [
    "elasticnet = ElasticNet(random_state=2021)\n",
    "\n",
    "cv_method = KFold(n_splits=10)\n",
    "params = {\n",
    "    'alpha': [0.0001, 0.005, 0.01, 0.1, 1, 10]\n",
    "}\n",
    "dt_grid_cv = GridSearchCV(elasticnet, param_grid=params, scoring='neg_mean_squared_error', cv=cv_method, n_jobs=-1)\n",
    "dt_grid_cv.fit(X_train, y_train)\n",
    "\n",
    "y_pred_test = dt_grid_cv.predict(X_test)\n",
    "test_mse = mean_squared_error(y_test, y_pred_test)\n",
    "test_rmse = np.sqrt(test_mse)\n",
    "\n",
    "neg_mse = dt_grid_cv.best_score_\n",
    "mse = -1 * neg_mse\n",
    "rmse = np.sqrt(mse)\n",
    "\n",
    "print(dt_grid_cv.best_params_)\n",
    "print(dt_grid_cv.best_score_)\n",
    "print(rmse)\n",
    "print(test_rmse)"
   ]
  },
  {
   "cell_type": "markdown",
   "metadata": {},
   "source": [
    "# 4. Polynomial 추가 모델링"
   ]
  },
  {
   "cell_type": "code",
   "execution_count": 659,
   "metadata": {},
   "outputs": [],
   "source": [
    "Poly2_X_train = PolynomialFeatures(degree=2, include_bias=False).fit_transform(X_train)\n",
    "Poly2_X_test = PolynomialFeatures(degree=2, include_bias=False).fit_transform(X_test)\n",
    "\n",
    "Poly3_X_train = PolynomialFeatures(degree=3, include_bias=False).fit_transform(X_train)\n",
    "Poly3_X_test = PolynomialFeatures(degree=3, include_bias=False).fit_transform(X_test)\n",
    "\n",
    "Poly4_X_train = PolynomialFeatures(degree=4, include_bias=False).fit_transform(X_train)\n",
    "Poly4_X_test = PolynomialFeatures(degree=4, include_bias=False).fit_transform(X_test)\n",
    "\n",
    "Poly5_X_train = PolynomialFeatures(degree=5, include_bias=False).fit_transform(X_train)\n",
    "Poly5_X_test = PolynomialFeatures(degree=5, include_bias=False).fit_transform(X_test)"
   ]
  },
  {
   "cell_type": "markdown",
   "metadata": {},
   "source": [
    "## Linear Regression"
   ]
  },
  {
   "cell_type": "code",
   "execution_count": 660,
   "metadata": {},
   "outputs": [
    {
     "name": "stdout",
     "output_type": "stream",
     "text": [
      "lr.coef_: [[-1.35631354e+02  6.54377233e+01 -2.29618050e+03  2.02957863e+02\n",
      "  -1.42660761e+02 -4.54609151e+02 -5.25250009e+02 -1.46098284e+02\n",
      "  -4.53688237e+02  2.11297845e+00  3.26296014e+02 -2.52470879e+01\n",
      "   1.03866914e+02  1.64829333e+01  4.38387015e+01  9.30873047e+01\n",
      "  -7.34273861e+01  5.51441684e+01 -2.13627925e+02 -1.60902988e+02\n",
      "  -5.47779137e+01 -3.37395946e+01  3.55941074e+01  4.25747965e+02\n",
      "   1.07124931e+02 -1.38199737e+02  2.20052092e+03 -6.40912048e+01\n",
      "   1.95029248e+02  7.17407800e+01 -1.25545183e+02  1.25056364e+02\n",
      "  -8.65217365e+01 -1.49082239e+02 -1.39021589e+02 -4.05133565e+00\n",
      "   2.32935981e+00 -1.35030754e+02  4.38907126e+01 -1.11737328e+02\n",
      "   1.79220363e+02  1.48620037e+02  1.87729992e+02  2.06902123e+02\n",
      "   1.40000278e+02  1.76212715e+02  2.11732223e+01  2.65349290e+02\n",
      "   3.76449615e+01 -1.20535628e+02  2.58568526e+02  1.66713411e+01\n",
      "   8.48087484e+01  1.31954425e+02]]\n",
      "Train MSE:2161.243, RMSE:46.489\n",
      "Train Variance score: 0.687\n",
      "Test MSE:2553.491, RMSE:50.532\n",
      "Test Variance score: 0.604\n"
     ]
    }
   ],
   "source": [
    "lr = LinearRegression()\n",
    "lr.fit(Poly2_X_train, y_train)\n",
    "\n",
    "y_pred_train = lr.predict(Poly2_X_train)\n",
    "y_pred_test = lr.predict(Poly2_X_test)\n",
    "\n",
    "train_mse = mean_squared_error(y_train, y_pred_train)\n",
    "train_rmse = np.sqrt(train_mse)\n",
    "\n",
    "test_mse = mean_squared_error(y_test, y_pred_test)\n",
    "test_rmse = np.sqrt(test_mse)\n",
    "\n",
    "print('lr.coef_: {}'.format(lr.coef_))\n",
    "print('Train MSE:{0:.3f}, RMSE:{1:3.3F}'.format(train_mse, train_rmse))\n",
    "print('Train Variance score: {0:.3f}'.format(r2_score(y_train, y_pred_train)))\n",
    "print('Test MSE:{0:.3f}, RMSE:{1:3.3F}'.format(test_mse, test_rmse))\n",
    "print('Test Variance score: {0:.3f}'.format(r2_score(y_test, y_pred_test)))"
   ]
  },
  {
   "cell_type": "code",
   "execution_count": 661,
   "metadata": {
    "scrolled": true
   },
   "outputs": [
    {
     "name": "stdout",
     "output_type": "stream",
     "text": [
      "lr.coef_: [[ 5.43064039e+02  1.77772212e+03  1.32740600e+02 -1.76815089e+03\n",
      "   2.21284296e+03  2.37019470e+03  1.13204249e+03 -1.02617386e+03\n",
      "   1.47287147e+03  1.12230249e+03 -2.21581427e+03 -5.68413024e+03\n",
      "  -9.99382982e+02 -6.12395004e+02 -2.87350575e+02 -4.98770878e+02\n",
      "  -1.14711224e+02  5.76447952e+02  1.10782306e+03 -5.30971229e+03\n",
      "   1.53059510e+03  5.42902726e+02 -3.71629556e+03 -3.79558143e+02\n",
      "  -2.93744631e+03 -2.74581541e+03  1.48883096e+03 -1.97930047e+03\n",
      "  -1.85270538e+03  4.18808926e+02 -3.53577605e+02  7.99047055e+02\n",
      "   1.65030815e+03  3.01606713e+02  1.93070371e+03  1.79801539e+03\n",
      "  -2.82968080e+02  2.30198509e+03  2.90278161e+03 -5.34382500e+02\n",
      "  -3.49425170e+03 -2.84160933e+03  3.25978335e+03 -5.38412942e+03\n",
      "  -1.08930492e+03 -1.46198689e+03  1.02771475e+03 -5.31344952e+02\n",
      "   9.22101989e+02 -7.89139970e+02 -8.34698790e+02  3.10332890e+03\n",
      "   5.27057893e+02 -4.51387135e+02 -1.09621224e+03  6.57885561e+02\n",
      "   2.22198714e+02  6.49936315e+01  1.09474206e+02  3.51887699e+01\n",
      "   9.62079800e+01  4.04532517e+02 -1.53852104e+02  7.61935382e+02\n",
      "   1.20771263e+03  2.66398770e+02  5.99294027e+02  5.93439857e+02\n",
      "   9.77197772e+02 -2.23578481e+02  8.40017374e+01  4.61959132e+03\n",
      "  -1.61035803e+02  3.25349336e+02 -2.47341097e+02  6.48786826e+02\n",
      "   1.19817752e+03 -7.68479285e+02  2.94005984e+02  3.02565401e+02\n",
      "   2.37848256e+02  9.35837479e+02  3.78150318e+02 -1.36412162e+02\n",
      "   2.99439192e+02  1.06806044e+02 -6.60002065e+01 -9.28246503e+01\n",
      "  -4.53397308e+02  5.39843575e+01 -2.79197745e+00 -6.80403373e+01\n",
      "  -3.53995609e+02 -4.79262786e+02  5.26062996e+02 -7.89127748e+01\n",
      "  -7.36994043e+02  7.18514942e+02 -2.57902918e+02 -1.09937594e+03\n",
      "   8.25071719e+01 -3.71614463e+02 -1.72889029e+03  9.56180249e+02\n",
      "  -9.70754263e+02  6.58196203e+02  1.58919867e+03 -4.62322642e+03\n",
      "   2.82619338e+03  8.20589653e+03  6.45033641e+02  4.06781933e+03\n",
      "  -2.21067866e+03 -1.17875682e+02 -1.88396436e+02 -1.91462396e+03\n",
      "  -3.04991767e+02 -7.09182590e+02  1.53302295e+03 -7.08535599e+02\n",
      "  -1.31965711e+03  1.83139699e+03  1.54781645e+03 -2.57605633e+02\n",
      "   2.79102526e+03  7.73832895e+02  3.61200347e+02  1.99085266e+03\n",
      "   2.62728726e+02  1.37356532e+03 -1.50339947e+03 -2.82426665e+02\n",
      "   2.20879352e+03 -1.49231083e+03  7.22509711e+02  1.53164507e+03\n",
      "  -1.55907612e+03 -1.18599096e+03  1.35524286e+03  4.82358777e+01\n",
      "   1.05028228e+03  2.01954714e+03  2.78993187e+02  3.14846790e+03\n",
      "   6.72335544e+02 -1.92021091e+03  8.17390407e+02 -1.06409296e+03\n",
      "   8.35712706e+02 -8.19928481e+02 -4.56119172e+03 -2.46101384e+03\n",
      "  -2.19180928e+03 -3.03101896e+02 -1.85000725e+03 -2.90192872e+02\n",
      "  -2.57571587e+03  4.75794041e+03 -5.94435544e+03  6.05694472e+03\n",
      "  -5.20332194e+03  1.17894117e+04 -6.16346890e+03 -1.82919673e+02\n",
      "  -2.76061333e+02  9.92318839e+01 -3.75858395e+02 -6.52738083e+02\n",
      "   3.27436913e+02 -5.38818703e+02 -9.11001588e+02  1.14540688e+03\n",
      "   5.61968359e+02 -1.74663802e+03 -5.14685235e+02 -7.80300067e+01\n",
      "  -1.93436418e+03 -1.12618561e+03  4.62278947e+02 -1.92070957e+03\n",
      "  -4.90493451e+02 -8.39874430e+02 -3.24972713e+03 -4.18048798e+02\n",
      "  -3.36035008e+02  9.61351530e+02  1.30890479e+03 -1.58918599e+03\n",
      "   2.48429781e+03  8.29057767e+02  1.14815609e+03 -4.94498258e+02\n",
      "   1.85792566e+03 -1.00531975e+03 -6.49686063e+02  1.88374684e+03\n",
      "  -3.63840428e+03  9.46271368e+00  1.48800621e+03  2.76759128e+02\n",
      "   2.96748449e+02 -3.25167699e+02 -2.94311334e+02 -2.15552209e+02\n",
      "   6.80916182e+02  1.36332710e+03 -2.28545788e+03 -2.41145247e+02\n",
      "   1.79036713e+02 -5.82173298e+02 -3.28624622e+02 -5.16263242e+02\n",
      "   1.00045260e+03  3.67700932e+03 -9.58592665e+02 -1.34788888e+03\n",
      "  -2.35360462e+02 -9.08332951e+00  1.92601458e+01]]\n",
      "38.241297529699686\n",
      "57.45884240108932\n"
     ]
    }
   ],
   "source": [
    "lr = LinearRegression()\n",
    "lr.fit(Poly3_X_train, y_train)\n",
    "\n",
    "y_pred_train = lr.predict(Poly3_X_train)\n",
    "y_pred_test = lr.predict(Poly3_X_test)\n",
    "\n",
    "train_mse = mean_squared_error(y_train, y_pred_train)\n",
    "train_rmse = np.sqrt(train_mse)\n",
    "\n",
    "test_mse = mean_squared_error(y_test, y_pred_test)\n",
    "test_rmse = np.sqrt(test_mse)\n",
    "\n",
    "print('lr.coef_: {}'.format(lr.coef_))\n",
    "print(train_rmse)\n",
    "print(test_rmse)"
   ]
  },
  {
   "cell_type": "code",
   "execution_count": 670,
   "metadata": {},
   "outputs": [
    {
     "name": "stdout",
     "output_type": "stream",
     "text": [
      "lr.coef_: [[ 3.34589065e+03 -2.50976262e+04 -3.17126495e+02  8.93826360e+03\n",
      "   1.82961535e+04  1.05464687e+04  1.43904602e+03 -1.36507972e+04\n",
      "   1.09753584e+04  4.19659946e+03 -3.80495061e+02 -2.14822688e+03\n",
      "  -1.24591891e+04 -1.32073325e+04 -6.67995344e+03 -3.14915866e+03\n",
      "   2.89744439e+04 -1.19550227e+04  3.74255426e+04 -2.34699376e+02\n",
      "  -1.09842259e+04  4.63943897e+04  1.50582736e+04  2.24884270e+04\n",
      "   1.19616272e+04  3.54707912e+03  8.42767901e+01 -2.66303350e+02\n",
      "  -2.73226265e+02  2.65506948e+02 -1.74615804e+01 -1.19681068e+02\n",
      "  -1.13299356e+02  8.79288940e+03 -1.64997212e+04 -9.18323543e+03\n",
      "   1.83501173e+04 -2.76513599e+04 -3.28300107e+04 -2.79407244e+04\n",
      "  -3.02353188e+04 -3.16725899e+04 -7.44907780e+03 -4.55910551e+04\n",
      "  -1.57388493e+04 -7.24235314e+02  1.54867115e+04 -1.24551189e+04\n",
      "  -3.41640885e+04  6.30527549e+04  2.69908522e+03  2.02018325e+04\n",
      "  -9.71085815e+03  2.59371203e+03  2.36855884e+02 -1.81878994e+03\n",
      "  -1.42089667e+03 -2.98424585e+03 -8.17059995e+03 -3.70100092e+03\n",
      "   7.64012821e+02 -8.77657410e+03  6.43328584e+03 -1.19984922e+03\n",
      "  -2.89156419e+02 -1.55355662e+03  1.33432861e+04 -2.76261010e+02\n",
      "  -9.25835838e+03  2.41717912e+03 -2.25642036e+03  1.07024892e+03\n",
      "  -4.27776673e+02 -9.60351810e+02 -9.39641151e+02 -1.73834692e+02\n",
      "   1.82287139e+02 -4.10719888e+02 -8.27237074e+02  1.59258690e+04\n",
      "   9.28655587e+03  2.04497064e+04  1.25104672e+04  1.69251193e+04\n",
      "   1.53329015e+04  1.03639015e+04  6.20639977e+03 -1.75232310e+03\n",
      "  -4.54547818e+03  5.68675558e+03  1.13772810e+04 -3.61260207e+04\n",
      "   1.57103386e+04 -3.11227462e+03 -9.92734428e+03 -1.27140409e+04\n",
      "  -2.73365048e+04 -3.12356391e+04  2.23133923e+04 -2.06634585e+04\n",
      "   1.22646789e+02  1.89931734e+04 -6.13635602e+04 -1.73657994e+04\n",
      "  -1.74097322e+04 -4.73410521e+04  1.79228825e+04 -3.14992883e+01\n",
      "   1.40813271e+02 -1.83750173e+02 -3.21220871e+02 -7.61888592e+02\n",
      "  -4.67494523e+02  2.92119804e+02 -8.67051807e+03  1.34430235e+04\n",
      "   8.80216974e+03 -3.02538184e+04  2.42903365e+04  9.29282658e+03\n",
      "  -3.29162916e+04 -1.53033974e+04 -4.79627773e+03 -3.98092105e+04\n",
      "   3.37527872e+04 -1.86488558e+03 -1.35407960e+04  4.14900098e+03\n",
      "  -1.38102388e+04  3.13694959e+04 -4.31566535e+04 -2.72679453e+04\n",
      "   2.34657432e+04  8.14362557e+04 -4.94526024e+04  9.69497832e+01\n",
      "  -1.41916777e+02 -7.58785342e+01  5.42691764e+02  1.01475370e+02\n",
      "  -4.53153411e+01 -4.00446823e+00  3.44641397e+02 -5.62523813e+01\n",
      "   3.19139136e+02 -5.83309333e+02 -1.44170141e+02 -9.79727282e+00\n",
      "   7.53573866e+00  3.63792433e+01  3.91596045e+01  2.45282844e+02\n",
      "  -1.69964156e+02 -5.15860408e+02  6.36812989e+02 -4.27406718e+02\n",
      "  -2.74112717e+02  1.34302735e+02 -6.34420990e+01  2.14078094e+02\n",
      "  -1.40875006e+02  3.91990148e+02  3.19348465e+01  3.99477789e+03\n",
      "  -1.68773040e+04 -1.16019824e+04  1.79893358e+03 -2.44652011e+04\n",
      "   9.80188653e+03  1.10839895e+04  1.73188057e+04 -2.20192895e+04\n",
      "   5.17301426e+04  2.19412485e+04  4.33217362e+03 -2.53435864e+04\n",
      "   3.12340926e+04  2.34332525e+04  1.12141382e+04 -6.14306925e+04\n",
      "   8.40110434e+03  5.90966374e+04  2.45065518e+04  2.21524221e+04\n",
      "   1.74710817e+04  2.15511693e+04  4.33269995e+04  1.75577541e+04\n",
      "   3.44805805e+04  1.89455393e+04  1.35027428e+04  2.88397435e+04\n",
      "   1.88780797e+04  3.59350897e+04 -4.12514339e+04  2.24529622e+04\n",
      "  -6.77330299e+04  8.52296154e+04  1.61148612e+04  9.21315638e+03\n",
      "   1.10966631e+03 -1.07678532e+04  1.44881764e+04  2.16233581e+04\n",
      "  -5.14036949e+04  3.10196546e+03  9.15542658e+02 -3.35676954e+04\n",
      "   5.96281180e+03 -1.51276447e+03  6.53525085e+04  2.24886115e+04\n",
      "  -7.16972062e+04 -8.33006426e+04  2.41935766e+03 -4.36392900e+04\n",
      "   9.04691843e+04 -7.99635884e+04  1.07394803e+04  6.62238257e+02\n",
      "   3.23416341e+02  6.04685240e+02  1.26914901e+03 -6.24498014e+02\n",
      "  -2.34317180e+03 -1.42927772e+03 -3.39195046e+03 -1.00006884e+03\n",
      "  -1.19018442e+03  3.33228764e+02  2.55449013e+03  9.96019952e+01\n",
      "   3.32543024e+03 -1.59179444e+03  2.59173079e+03  1.08595348e+03\n",
      "   1.09791048e+03  3.72160453e+01 -5.96419114e+02 -4.46126954e+02\n",
      "  -7.21592530e+01 -1.67775313e+02 -9.66322771e+02  1.73347683e+03\n",
      "   1.42517065e+03  6.40038030e+02 -5.35262432e+03  7.99250570e+03\n",
      "  -6.23023083e+03  3.33293703e+03  4.60623468e+03  3.93786114e+03\n",
      "   9.90698227e+03 -2.84709310e+03  1.44167874e+03  1.83867405e+03\n",
      "   7.37561752e+03 -2.86762715e+03  1.00389629e+03 -1.04271859e+04\n",
      "   5.18695256e+03  4.37728787e+03  3.69078246e+03 -3.26769878e+03\n",
      "  -2.66446740e+03  1.47890175e+02  1.10041548e+03 -5.13110848e+03\n",
      "   4.15205128e+03  1.02499324e+04  1.45254175e+03  7.60547963e+03\n",
      "   1.34011417e+03  8.82695060e+02  3.44330444e+02 -9.78070195e+02\n",
      "  -4.26268443e+02 -4.01840221e+02 -8.72139512e+01 -4.52089439e+03\n",
      "  -5.90221282e+03  2.72001656e+03 -3.29203298e+03  3.44911830e+04\n",
      "  -1.18202495e+04 -6.20707109e+03 -2.01694191e+03  2.23442856e+03\n",
      "  -3.74874914e+03  2.93301812e+03 -2.37505537e+03 -2.30969905e+03\n",
      "  -9.82717675e+03 -2.31074708e+03  4.88593200e+03 -1.05874233e+04\n",
      "   6.37220643e+03 -2.13670232e+04  5.63570061e+03 -7.51660002e+03\n",
      "   1.17186175e+03  5.69562389e+02  6.21994228e+02  1.28284346e+03\n",
      "   7.79808963e+02  7.78556032e+02  4.65613128e+02 -1.53144663e+03\n",
      "  -5.23057366e+01  8.14054977e+01 -3.72173383e+02  3.80750303e+02\n",
      "   7.21156544e+01 -2.32964094e+02 -4.31604290e+02  2.52073668e+02\n",
      "   7.43450814e+02 -2.03478246e+01 -4.39524644e+02  2.52826345e+02\n",
      "  -5.30409504e+02 -4.44866876e+02  3.35139342e+02  1.16321435e+02\n",
      "   2.38095221e+01 -1.38204475e+02  1.68947050e+02 -2.57196673e+01\n",
      "  -3.68942701e+03  2.66435856e+03  2.13146751e+03  7.48357109e+03\n",
      "   2.64239331e+02 -4.14248978e+03 -5.29857244e+03 -6.93230625e+03\n",
      "  -7.30145497e+03 -2.23458509e+04  6.72179755e+02 -1.46458312e+03\n",
      "  -1.09198290e+04 -1.38772388e+04 -2.83805801e+03 -5.30534992e+03\n",
      "  -4.83719946e+03 -4.16842970e+03 -1.79155042e+04 -1.62856244e+04\n",
      "   2.04435000e+03 -4.87186507e+03 -5.44272035e+03 -4.48844138e+03\n",
      "  -2.01423976e+04  8.51062272e+03 -3.27799650e+03 -7.57518618e+03\n",
      "   9.53597464e+03 -2.04830647e+03 -1.33267504e+03  1.40314144e+04\n",
      "   1.98888294e+03  6.73113498e+03  1.56367914e+04 -6.71786866e+03\n",
      "  -1.21808272e+03 -5.21767406e+03  1.00590448e+04 -4.62169699e+03\n",
      "   8.58244845e+02  1.57877444e+04 -1.19564563e+03  1.54244767e+04\n",
      "   2.60627173e+04 -1.36743466e+04 -2.92953348e+03  4.71232474e+03\n",
      "   7.20821311e+03  1.40969353e+04  4.75980096e+03  2.51353266e+03\n",
      "   1.29154412e+04  2.74901341e+04 -5.40735660e+03 -5.22232955e+03\n",
      "   4.75978193e+03  2.50954007e+02 -5.89210002e+03  2.05275000e+04\n",
      "   5.04797428e+03  2.57692438e+03  2.07282562e+04 -1.50336193e+04\n",
      "   2.25511608e+02  3.62297152e+02  2.23822047e+02 -3.59516773e+02\n",
      "  -5.96732071e+02 -3.78285309e+02  2.36098435e+02  2.73244254e+03\n",
      "  -1.34542599e+04 -5.85469622e+03  1.92225696e+03 -2.85091873e+04\n",
      "   1.02648302e+04  2.44232368e+04  1.41556829e+04  6.14790397e+03\n",
      "   3.00175331e+04 -1.40001342e+04  4.15887776e+02  4.38897840e+03\n",
      "   1.38938823e+04  7.25379662e+02 -4.54489160e+03  8.11368889e+03\n",
      "   6.23754268e+03  1.18107379e+04 -4.69894487e+03  4.48694081e+03\n",
      "  -2.50839114e+01  2.03780774e+02 -8.38479597e+01 -1.80903187e+02\n",
      "  -7.01679820e+02 -4.29848787e+02  3.47447529e+02  4.36022627e+02\n",
      "   9.42416870e+01  2.12780981e+02 -3.93794220e+02 -2.80753684e+02\n",
      "   3.73849152e+01 -2.16477031e+02 -1.92331952e+02 -5.73461942e+02\n",
      "  -1.78213346e+02  3.59365707e+02 -7.46822546e+01  6.58434140e+01\n",
      "  -4.71354720e+02 -4.97909975e+02 -2.67456466e+02 -3.24857995e+02\n",
      "  -1.71691574e+02 -2.54213996e+02  6.18426755e+01  2.28018029e+02\n",
      "   7.75980081e+03  5.04927185e+03  6.75887514e+02 -1.39499357e+04\n",
      "   2.45226682e+04 -6.02402392e+03 -6.21455041e+03 -3.82283726e+03\n",
      "   1.68063632e+04  5.49894906e+03  1.73517516e+03 -2.77891853e+03\n",
      "   2.76286625e+04 -2.88587812e+04 -9.40131719e+03 -4.13617958e+03\n",
      "   3.06779648e+04  1.94983743e+04 -1.64172107e+04 -5.45875911e+04\n",
      "   2.22481989e+03  8.10859470e+03  5.52405240e+03 -7.45752662e+03\n",
      "   2.83388686e+04 -2.12218399e+04 -5.44181227e+02  2.72876508e+03\n",
      "  -1.14257740e+04  6.90782424e+02 -6.57943890e+03  4.64520390e+03\n",
      "   3.32313317e+03  5.51432873e+04 -9.84830843e+04  1.77231208e+04\n",
      "   9.34644607e+02  4.41544925e+02  8.09378142e+03  2.40805973e+01\n",
      "  -1.51909068e+04  3.34391218e+04  3.86856717e+03 -3.74916088e+04\n",
      "  -1.73971638e+04  2.36358103e+04  1.19246272e+03 -5.14762396e+04\n",
      "  -1.31909849e+04  4.03344530e+04  4.70762058e+04  5.88248976e+03\n",
      "   2.20224959e+04 -1.64600994e+05  7.40447871e+04  6.08743852e+03\n",
      "   9.73498914e+01 -1.37989678e+02 -6.96479263e+01  5.51442967e+02\n",
      "   1.05230414e+02 -4.29674870e+01 -5.53840312e-01  3.83186222e+02\n",
      "   4.90159763e+00  4.05032976e+02 -5.46453233e+02 -1.21125741e+02\n",
      "   2.40709516e+01  1.04560672e+02  1.72655643e+02  9.76343059e+01\n",
      "   2.81844347e+02 -1.16229922e+02 -3.24453348e+02  7.18943649e+02\n",
      "  -3.76054248e+02 -1.98640281e+02  1.69544096e+02 -4.14073198e+01\n",
      "   2.46462484e+02 -1.27097687e+02  4.12238596e+02  6.16938768e+01\n",
      "  -8.28681979e+02  5.76923900e+02  4.50767000e+01 -1.69343293e+02\n",
      "   3.22092815e+02 -7.28632360e+01  4.33533765e+02  1.50759959e+02\n",
      "  -5.17014654e+02 -4.42181578e+01 -8.12657803e+01 -1.10006441e+03\n",
      "   9.35825896e+01  7.16557906e+01  3.14183406e+02 -5.93671771e+01\n",
      "  -7.08879484e+01 -1.92611793e+02 -2.65322477e+01  1.91860073e+02\n",
      "   4.42925956e+02  5.69258462e+02 -5.05171064e+02  1.90081773e+01\n",
      "   3.87955835e+02 -2.56295053e+02 -9.85947169e+01  6.52093628e+02\n",
      "  -1.15909176e+02 -5.76927241e+01  2.02022696e+02  1.18314790e+02\n",
      "   2.18802512e+02  9.57350007e+01  5.16292255e+02  6.94637568e+01\n",
      "   8.04776226e+02  1.60377799e+01 -5.91905299e+02 -8.84219620e+02\n",
      "   2.32478062e+02 -7.72736757e+01  1.25890250e+02 -2.76968897e+02\n",
      "  -1.37063638e+02 -5.33147778e+01  5.30304609e+01 -5.93553630e+01\n",
      "   3.75762302e+01 -8.54207581e+01  1.30994014e+02  3.79961570e+02\n",
      "  -1.78769988e+02 -3.45475238e+01 -1.22596291e+00 -5.17439878e+02\n",
      "  -1.19669607e+02 -2.03094324e+01 -2.55332895e+03 -9.17439945e+03\n",
      "  -4.02375804e+03  2.65852576e+03  7.36332700e+03  8.64413059e+03\n",
      "  -5.38133617e+02  1.34879107e+04 -7.08014233e+03  4.00304711e+03\n",
      "   3.87861986e+03  1.98107326e+04 -6.51095546e+03  1.16018959e+04\n",
      "  -9.56462012e+03  2.38396969e+02 -2.02553903e+03  5.08179050e+03\n",
      "  -8.05442282e+02 -2.40032228e+03 -7.14966269e+03  1.54624206e+03\n",
      "  -9.74356018e+03 -3.18990342e+03 -5.19318199e+03  1.36081203e+04\n",
      "  -3.05901062e+04 -1.00185043e+04 -8.11190264e+02  1.95484595e+04\n",
      "   1.08517304e+04 -3.28742754e+04 -6.89979378e+04  2.61544651e+03\n",
      "  -1.39439910e+03  6.52882587e+03 -8.01796476e+03 -1.85546671e+03\n",
      "  -1.16664095e+04  3.48815973e+04 -7.19248803e+03 -3.32844576e+04\n",
      "   1.00627571e+04 -6.99551471e+03  1.01627040e+04 -2.82317202e+04\n",
      "  -1.69847732e+04  5.67395153e+04  2.93682685e+03 -8.56264212e+03\n",
      "  -3.82684222e+04  3.48306135e+04  1.45109595e+04 -1.53668317e+04\n",
      "  -5.16144904e+03 -4.54876199e+03 -1.51982479e+04 -2.89819299e+03\n",
      "  -5.41063437e+03 -4.85147744e+03 -1.06647303e+04 -2.21551127e+04\n",
      "  -2.14026002e+03 -6.11563298e+03 -4.32343666e+03 -1.71519462e+04\n",
      "   3.50005586e+04 -5.41498468e+04 -7.65238159e+03 -4.76461692e+03\n",
      "   4.25160236e+02 -6.83793367e+03 -3.62759056e+03 -1.20725408e+04\n",
      "   2.85364153e+04 -1.45752820e+04  1.80140078e+04 -8.75609381e+03\n",
      "  -1.00756248e+04 -9.56123480e+03 -3.68692760e+04 -1.06847385e+04\n",
      "  -1.92162926e+04  1.10707296e+05 -2.36114257e+04  2.73798946e+04\n",
      "  -4.15195203e+04  4.02332627e+04 -1.38533065e+04 -1.80500894e+03\n",
      "  -5.62159717e+02  3.03563312e+03 -7.06233075e+03 -6.70924311e+02\n",
      "  -7.19869413e+03  5.28642680e+03 -4.30384903e+03  1.67572649e+04\n",
      "  -5.28357704e+03  3.94261067e+03 -2.49133770e+04 -9.08679120e+03\n",
      "   6.48326873e+04  9.44837062e+03 -3.46456449e+02  8.05865685e+03\n",
      "  -3.42730394e+04  3.62734582e+04 -5.53624225e+03 -4.95314690e+03\n",
      "   1.22684356e+04  9.54593937e+03 -3.20277897e+04  1.42693574e+04\n",
      "  -1.96789820e+04  1.04155947e+04  6.09491675e+03  1.22768129e+03\n",
      "   1.02996359e+04  1.53243564e+04  1.27258894e+04 -8.33847497e+03\n",
      "   3.58789704e+03  4.76586256e+02]]\n",
      "28.752402374193604\n",
      "108.6072590717859\n"
     ]
    }
   ],
   "source": [
    "lr = LinearRegression()\n",
    "lr.fit(Poly4_X_train, y_train)\n",
    "\n",
    "y_pred_train = lr.predict(Poly4_X_train)\n",
    "y_pred_test = lr.predict(Poly4_X_test)\n",
    "\n",
    "train_mse = mean_squared_error(y_train, y_pred_train)\n",
    "train_rmse = np.sqrt(train_mse)\n",
    "\n",
    "test_mse = mean_squared_error(y_test, y_pred_test)\n",
    "test_rmse = np.sqrt(test_mse)\n",
    "\n",
    "print('lr.coef_: {}'.format(lr.coef_))\n",
    "print(train_rmse)\n",
    "print(test_rmse)"
   ]
  },
  {
   "cell_type": "markdown",
   "metadata": {},
   "source": [
    "## Ridge Regression"
   ]
  },
  {
   "cell_type": "code",
   "execution_count": 662,
   "metadata": {},
   "outputs": [
    {
     "name": "stdout",
     "output_type": "stream",
     "text": [
      "{'alpha': 0.1}\n",
      "-2365.3502138600097\n",
      "48.634866236682605\n",
      "49.9903271006844\n"
     ]
    }
   ],
   "source": [
    "ridge = Ridge(random_state=2021)\n",
    "\n",
    "cv_method = KFold(n_splits=10)\n",
    "params = {\n",
    "    'alpha': [0.001, 0.01, 0.1, 1, 10]\n",
    "}\n",
    "dt_grid_cv = GridSearchCV(ridge, param_grid=params, scoring='neg_mean_squared_error', cv=cv_method, n_jobs=-1)\n",
    "dt_grid_cv.fit(Poly2_X_train, y_train)\n",
    "\n",
    "y_pred_test = dt_grid_cv.predict(Poly2_X_test)\n",
    "test_mse = mean_squared_error(y_test, y_pred_test)\n",
    "test_rmse = np.sqrt(test_mse)\n",
    "\n",
    "neg_mse = dt_grid_cv.best_score_\n",
    "mse = -1 * neg_mse\n",
    "rmse = np.sqrt(mse)\n",
    "\n",
    "print(dt_grid_cv.best_params_)\n",
    "print(dt_grid_cv.best_score_)\n",
    "print(rmse)\n",
    "print(test_rmse)"
   ]
  },
  {
   "cell_type": "code",
   "execution_count": 663,
   "metadata": {},
   "outputs": [
    {
     "name": "stdout",
     "output_type": "stream",
     "text": [
      "{'alpha': 0.01}\n",
      "-2035.2292662540215\n",
      "45.11351533913115\n",
      "47.92931819969418\n"
     ]
    }
   ],
   "source": [
    "ridge = Ridge(random_state=2021)\n",
    "\n",
    "cv_method = KFold(n_splits=10)\n",
    "params = {\n",
    "    'alpha': [0.001, 0.01, 0.1, 1, 10]\n",
    "}\n",
    "dt_grid_cv = GridSearchCV(ridge, param_grid=params, scoring='neg_mean_squared_error', cv=cv_method, n_jobs=-1)\n",
    "dt_grid_cv.fit(Poly3_X_train, y_train)\n",
    "\n",
    "y_pred_test = dt_grid_cv.predict(Poly3_X_test)\n",
    "test_mse = mean_squared_error(y_test, y_pred_test)\n",
    "test_rmse = np.sqrt(test_mse)\n",
    "\n",
    "neg_mse = dt_grid_cv.best_score_\n",
    "mse = -1 * neg_mse\n",
    "rmse = np.sqrt(mse)\n",
    "\n",
    "print(dt_grid_cv.best_params_)\n",
    "print(dt_grid_cv.best_score_)\n",
    "print(rmse)\n",
    "print(test_rmse)"
   ]
  },
  {
   "cell_type": "code",
   "execution_count": 671,
   "metadata": {},
   "outputs": [
    {
     "name": "stdout",
     "output_type": "stream",
     "text": [
      "{'alpha': 0.1}\n",
      "-2011.5679099699876\n",
      "44.850506239840676\n",
      "47.82534694663291\n"
     ]
    }
   ],
   "source": [
    "ridge = Ridge(random_state=2021)\n",
    "\n",
    "cv_method = KFold(n_splits=10)\n",
    "params = {\n",
    "    'alpha': [0.001, 0.01, 0.1, 1, 10]\n",
    "}\n",
    "dt_grid_cv = GridSearchCV(ridge, param_grid=params, scoring='neg_mean_squared_error', cv=cv_method, n_jobs=-1)\n",
    "dt_grid_cv.fit(Poly4_X_train, y_train)\n",
    "\n",
    "y_pred_test = dt_grid_cv.predict(Poly4_X_test)\n",
    "test_mse = mean_squared_error(y_test, y_pred_test)\n",
    "test_rmse = np.sqrt(test_mse)\n",
    "\n",
    "neg_mse = dt_grid_cv.best_score_\n",
    "mse = -1 * neg_mse\n",
    "rmse = np.sqrt(mse)\n",
    "\n",
    "print(dt_grid_cv.best_params_)\n",
    "print(dt_grid_cv.best_score_)\n",
    "print(rmse)\n",
    "print(test_rmse)"
   ]
  },
  {
   "cell_type": "markdown",
   "metadata": {},
   "source": [
    "## Lasso Regression"
   ]
  },
  {
   "cell_type": "code",
   "execution_count": 664,
   "metadata": {},
   "outputs": [
    {
     "name": "stdout",
     "output_type": "stream",
     "text": [
      "{'alpha': 0.01}\n",
      "-2380.1612344323107\n",
      "48.78689613443666\n",
      "49.81498140599941\n"
     ]
    }
   ],
   "source": [
    "lasso = Lasso(random_state=2021)\n",
    "\n",
    "cv_method = KFold(n_splits=10)\n",
    "params = {\n",
    "    'alpha': [0.0001, 0.01, 0.1, 1, 10]\n",
    "}\n",
    "dt_grid_cv = GridSearchCV(lasso, param_grid=params, scoring='neg_mean_squared_error', cv=cv_method, n_jobs=-1)\n",
    "dt_grid_cv.fit(Poly2_X_train, y_train)\n",
    "\n",
    "y_pred_test = dt_grid_cv.predict(Poly2_X_test)\n",
    "test_mse = mean_squared_error(y_test, y_pred_test)\n",
    "test_rmse = np.sqrt(test_mse)\n",
    "\n",
    "neg_mse = dt_grid_cv.best_score_\n",
    "mse = -1 * neg_mse\n",
    "rmse = np.sqrt(mse)\n",
    "\n",
    "print(dt_grid_cv.best_params_)\n",
    "print(dt_grid_cv.best_score_)\n",
    "print(rmse)\n",
    "print(test_rmse)"
   ]
  },
  {
   "cell_type": "code",
   "execution_count": 665,
   "metadata": {},
   "outputs": [
    {
     "name": "stdout",
     "output_type": "stream",
     "text": [
      "{'alpha': 0.01}\n",
      "-2035.5285247662591\n",
      "45.11683194514281\n",
      "48.167382024431674\n"
     ]
    }
   ],
   "source": [
    "lasso = Lasso(random_state=2021)\n",
    "\n",
    "cv_method = KFold(n_splits=10)\n",
    "params = {\n",
    "    'alpha': [0.0001, 0.01, 0.1, 1, 10]\n",
    "}\n",
    "dt_grid_cv = GridSearchCV(lasso, param_grid=params, scoring='neg_mean_squared_error', cv=cv_method, n_jobs=-1)\n",
    "dt_grid_cv.fit(Poly3_X_train, y_train)\n",
    "\n",
    "y_pred_test = dt_grid_cv.predict(Poly3_X_test)\n",
    "test_mse = mean_squared_error(y_test, y_pred_test)\n",
    "test_rmse = np.sqrt(test_mse)\n",
    "\n",
    "neg_mse = dt_grid_cv.best_score_\n",
    "mse = -1 * neg_mse\n",
    "rmse = np.sqrt(mse)\n",
    "\n",
    "print(dt_grid_cv.best_params_)\n",
    "print(dt_grid_cv.best_score_)\n",
    "print(rmse)\n",
    "print(test_rmse)"
   ]
  },
  {
   "cell_type": "code",
   "execution_count": 666,
   "metadata": {},
   "outputs": [
    {
     "name": "stdout",
     "output_type": "stream",
     "text": [
      "{'alpha': 0.01}\n",
      "-1987.4847744967497\n",
      "44.581215489225386\n",
      "47.49635875521972\n"
     ]
    }
   ],
   "source": [
    "lasso = Lasso(random_state=2021)\n",
    "\n",
    "cv_method = KFold(n_splits=10)\n",
    "params = {\n",
    "    'alpha': [0.0001, 0.01, 0.1, 1, 10]\n",
    "}\n",
    "dt_grid_cv = GridSearchCV(lasso, param_grid=params, scoring='neg_mean_squared_error', cv=cv_method, n_jobs=-1)\n",
    "dt_grid_cv.fit(Poly4_X_train, y_train)\n",
    "\n",
    "y_pred_test = dt_grid_cv.predict(Poly4_X_test)\n",
    "test_mse = mean_squared_error(y_test, y_pred_test)\n",
    "test_rmse = np.sqrt(test_mse)\n",
    "\n",
    "neg_mse = dt_grid_cv.best_score_\n",
    "mse = -1 * neg_mse\n",
    "rmse = np.sqrt(mse)\n",
    "\n",
    "print(dt_grid_cv.best_params_)\n",
    "print(dt_grid_cv.best_score_)\n",
    "print(rmse)\n",
    "print(test_rmse)"
   ]
  },
  {
   "cell_type": "markdown",
   "metadata": {},
   "source": [
    "## ElasticNet Regression"
   ]
  },
  {
   "cell_type": "code",
   "execution_count": 667,
   "metadata": {},
   "outputs": [
    {
     "name": "stdout",
     "output_type": "stream",
     "text": [
      "{'alpha': 0.0001}\n",
      "-2369.7589883822848\n",
      "48.68017038160697\n",
      "50.07093084114\n"
     ]
    }
   ],
   "source": [
    "elasticnet = ElasticNet(random_state=2021)\n",
    "\n",
    "cv_method = KFold(n_splits=10)\n",
    "params = {\n",
    "    'alpha': [0.0001, 0.005, 0.01, 0.1, 1, 10]\n",
    "}\n",
    "dt_grid_cv = GridSearchCV(elasticnet, param_grid=params, scoring='neg_mean_squared_error', cv=cv_method, n_jobs=-1)\n",
    "dt_grid_cv.fit(Poly2_X_train, y_train)\n",
    "\n",
    "y_pred_test = dt_grid_cv.predict(Poly2_X_test)\n",
    "test_mse = mean_squared_error(y_test, y_pred_test)\n",
    "test_rmse = np.sqrt(test_mse)\n",
    "\n",
    "neg_mse = dt_grid_cv.best_score_\n",
    "mse = -1 * neg_mse\n",
    "rmse = np.sqrt(mse)\n",
    "\n",
    "print(dt_grid_cv.best_params_)\n",
    "print(dt_grid_cv.best_score_)\n",
    "print(rmse)\n",
    "print(test_rmse)"
   ]
  },
  {
   "cell_type": "code",
   "execution_count": 668,
   "metadata": {},
   "outputs": [
    {
     "name": "stdout",
     "output_type": "stream",
     "text": [
      "{'alpha': 0.0001}\n",
      "-2035.4771115750239\n",
      "45.11626216316046\n",
      "48.29057873190956\n"
     ]
    }
   ],
   "source": [
    "elasticnet = ElasticNet(random_state=2021)\n",
    "\n",
    "cv_method = KFold(n_splits=10)\n",
    "params = {\n",
    "    'alpha': [0.0001, 0.005, 0.01, 0.1, 1, 10]\n",
    "}\n",
    "dt_grid_cv = GridSearchCV(elasticnet, param_grid=params, scoring='neg_mean_squared_error', cv=cv_method, n_jobs=-1)\n",
    "dt_grid_cv.fit(Poly3_X_train, y_train)\n",
    "\n",
    "y_pred_test = dt_grid_cv.predict(Poly3_X_test)\n",
    "test_mse = mean_squared_error(y_test, y_pred_test)\n",
    "test_rmse = np.sqrt(test_mse)\n",
    "\n",
    "neg_mse = dt_grid_cv.best_score_\n",
    "mse = -1 * neg_mse\n",
    "rmse = np.sqrt(mse)\n",
    "\n",
    "print(dt_grid_cv.best_params_)\n",
    "print(dt_grid_cv.best_score_)\n",
    "print(rmse)\n",
    "print(test_rmse)"
   ]
  },
  {
   "cell_type": "code",
   "execution_count": 669,
   "metadata": {},
   "outputs": [
    {
     "name": "stdout",
     "output_type": "stream",
     "text": [
      "{'alpha': 0.0001}\n",
      "-2033.869100712027\n",
      "45.09843789658381\n",
      "47.59660780474098\n"
     ]
    }
   ],
   "source": [
    "elasticnet = ElasticNet(random_state=2021)\n",
    "\n",
    "cv_method = KFold(n_splits=10)\n",
    "params = {\n",
    "    'alpha': [0.0001, 0.005, 0.01, 0.1, 1, 10]\n",
    "}\n",
    "dt_grid_cv = GridSearchCV(elasticnet, param_grid=params, scoring='neg_mean_squared_error', cv=cv_method, n_jobs=-1)\n",
    "dt_grid_cv.fit(Poly4_X_train, y_train)\n",
    "\n",
    "y_pred_test = dt_grid_cv.predict(Poly4_X_test)\n",
    "test_mse = mean_squared_error(y_test, y_pred_test)\n",
    "test_rmse = np.sqrt(test_mse)\n",
    "\n",
    "neg_mse = dt_grid_cv.best_score_\n",
    "mse = -1 * neg_mse\n",
    "rmse = np.sqrt(mse)\n",
    "\n",
    "print(dt_grid_cv.best_params_)\n",
    "print(dt_grid_cv.best_score_)\n",
    "print(rmse)\n",
    "print(test_rmse)"
   ]
  }
 ],
 "metadata": {
  "kernelspec": {
   "display_name": "Python 3",
   "language": "python",
   "name": "python3"
  },
  "language_info": {
   "codemirror_mode": {
    "name": "ipython",
    "version": 3
   },
   "file_extension": ".py",
   "mimetype": "text/x-python",
   "name": "python",
   "nbconvert_exporter": "python",
   "pygments_lexer": "ipython3",
   "version": "3.8.3"
  }
 },
 "nbformat": 4,
 "nbformat_minor": 4
}
